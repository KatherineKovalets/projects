{
 "cells": [
  {
   "cell_type": "markdown",
   "metadata": {},
   "source": [
    "# Домашня робота №4"
   ]
  },
  {
   "cell_type": "markdown",
   "metadata": {},
   "source": [
    "# Дискретні розподіли"
   ]
  },
  {
   "cell_type": "code",
   "execution_count": 3,
   "metadata": {},
   "outputs": [],
   "source": [
    "import numpy as np\n",
    "import matplotlib.pyplot as plt"
   ]
  },
  {
   "cell_type": "markdown",
   "metadata": {},
   "source": [
    "## 1 Від'ємний біноміальний розподіл"
   ]
  },
  {
   "cell_type": "markdown",
   "metadata": {},
   "source": [
    "Більш детальна інформація в [документації](https://docs.scipy.org/doc/scipy/reference/generated/scipy.stats.nbinom.html)."
   ]
  },
  {
   "cell_type": "code",
   "execution_count": 4,
   "metadata": {},
   "outputs": [],
   "source": [
    "from scipy.stats import nbinom"
   ]
  },
  {
   "cell_type": "code",
   "execution_count": 6,
   "metadata": {},
   "outputs": [],
   "source": [
    "n = 5\n",
    "p = 0.4"
   ]
  },
  {
   "cell_type": "markdown",
   "metadata": {},
   "source": [
    "### 1.1 Щільність"
   ]
  },
  {
   "cell_type": "code",
   "execution_count": 7,
   "metadata": {},
   "outputs": [],
   "source": [
    "x = np.arange(-0.5, n*5+1, 0.5)"
   ]
  },
  {
   "cell_type": "markdown",
   "metadata": {},
   "source": [
    "Виведіть значення функції щільності від'ємного біноміального розподілу з параметрами $n, p$ в точках вектора $x$."
   ]
  },
  {
   "cell_type": "code",
   "execution_count": 11,
   "metadata": {},
   "outputs": [
    {
     "name": "stdout",
     "output_type": "stream",
     "text": [
      "[0.         0.01024    0.         0.03072    0.         0.055296\n",
      " 0.         0.0774144  0.         0.09289728 0.         0.10032906\n",
      " 0.         0.10032906 0.         0.09459597 0.         0.08513638\n",
      " 0.         0.07378486 0.         0.06197928 0.         0.05071032\n",
      " 0.         0.04056826 0.         0.03183048 0.         0.02455494\n",
      " 0.         0.01866175 0.         0.01399632 0.         0.01037374\n",
      " 0.         0.00760741 0.         0.00552538 0.         0.00397827\n",
      " 0.         0.00284162 0.         0.00201497 0.         0.00141924\n",
      " 0.         0.00099347 0.         0.00069145 0.        ]\n"
     ]
    }
   ],
   "source": [
    "# Місце для Вашого коду\n",
    "import numpy as np\n",
    "import matplotlib.pyplot as plt\n",
    "n = 5\n",
    "p = 0.4\n",
    "x = np.arange(-0.5, n*5+1, 0.5)\n",
    "y = nbinom.pmf(x,n, p)\n",
    "print(y)\n",
    "\n"
   ]
  },
  {
   "cell_type": "markdown",
   "metadata": {},
   "source": [
    "Зобразіть графічно значення функції щільності від'ємного біноміального розподілу з параметрами $n, p$ в точках вектора $x$."
   ]
  },
  {
   "cell_type": "code",
   "execution_count": 12,
   "metadata": {
    "scrolled": true
   },
   "outputs": [
    {
     "data": {
      "image/png": "[encoded data removed]",
      "text/plain": [
       "<Figure size 432x288 with 1 Axes>"
      ]
     },
     "metadata": {
      "needs_background": "light"
     },
     "output_type": "display_data"
    }
   ],
   "source": [
    "# Місце для Вашого коду\n",
    "\n",
    "plt.stem(x, y)\n",
    "plt.show()\n",
    "\n"
   ]
  },
  {
   "cell_type": "markdown",
   "metadata": {},
   "source": [
    "Зобразіть графічно значення функції щільності від'ємного біноміального розподілу з параметрами $n, p$ в точках вектора $x1$."
   ]
  },
  {
   "cell_type": "code",
   "execution_count": 14,
   "metadata": {},
   "outputs": [],
   "source": [
    "x1 = np.arange(0, n*5+1)"
   ]
  },
  {
   "cell_type": "code",
   "execution_count": 15,
   "metadata": {},
   "outputs": [
    {
     "data": {
      "image/png": "[encoded data removed]",
      "text/plain": [
       "<Figure size 432x288 with 1 Axes>"
      ]
     },
     "metadata": {
      "needs_background": "light"
     },
     "output_type": "display_data"
    }
   ],
   "source": [
    "# Місце для Вашого коду\n",
    "y1 = nbinom.pmf(x1,n, p)\n",
    "plt.stem(x1, y1)\n",
    "plt.show()\n"
   ]
  },
  {
   "cell_type": "markdown",
   "metadata": {},
   "source": [
    "### 1.2 Функція розподілу"
   ]
  },
  {
   "cell_type": "markdown",
   "metadata": {},
   "source": [
    "Виведіть значення функції розподілу від'ємного біноміального розподілу з параметрами $n, p$ в точках вектора $x$."
   ]
  },
  {
   "cell_type": "code",
   "execution_count": 18,
   "metadata": {},
   "outputs": [
    {
     "name": "stdout",
     "output_type": "stream",
     "text": [
      "[0.         0.01024    0.01024    0.04096    0.04096    0.096256\n",
      " 0.096256   0.1736704  0.1736704  0.26656768 0.26656768 0.36689674\n",
      " 0.36689674 0.4672258  0.4672258  0.56182178 0.56182178 0.64695815\n",
      " 0.64695815 0.72074301 0.72074301 0.78272229 0.78272229 0.83343262\n",
      " 0.83343262 0.87400087 0.87400087 0.90583135 0.90583135 0.93038629\n",
      " 0.93038629 0.94904805 0.94904805 0.96304436 0.96304436 0.9734181\n",
      " 0.9734181  0.98102551 0.98102551 0.98655089 0.98655089 0.99052917\n",
      " 0.99052917 0.99337079 0.99337079 0.99538576 0.99538576 0.996805\n",
      " 0.996805   0.99779847 0.99779847 0.99848993 0.99848993]\n"
     ]
    }
   ],
   "source": [
    "# Місце для Вашого коду\n",
    "y=nbinom.cdf(x,n,p)\n",
    "print(y)"
   ]
  },
  {
   "cell_type": "markdown",
   "metadata": {},
   "source": [
    "Зобразіть графічно значення функції розподілу від'ємного біноміального розподілу з параметрами $n, p$ в точках вектора $x$."
   ]
  },
  {
   "cell_type": "code",
   "execution_count": 19,
   "metadata": {},
   "outputs": [
    {
     "data": {
      "image/png": "[encoded data removed]",
      "text/plain": [
       "<Figure size 432x288 with 1 Axes>"
      ]
     },
     "metadata": {
      "needs_background": "light"
     },
     "output_type": "display_data"
    }
   ],
   "source": [
    "# Місце для Вашого коду\n",
    "\n",
    "plt.plot(x, y, drawstyle='steps-post')\n",
    "plt.show()\n",
    "\n"
   ]
  },
  {
   "cell_type": "markdown",
   "metadata": {},
   "source": [
    "### 1.3 Випадкові величини"
   ]
  },
  {
   "cell_type": "markdown",
   "metadata": {},
   "source": [
    "Згенеруйте $100$ випадкових величин з від'ємного біноміального розподілу з параметрами $n, p$."
   ]
  },
  {
   "cell_type": "code",
   "execution_count": 34,
   "metadata": {},
   "outputs": [
    {
     "name": "stdout",
     "output_type": "stream",
     "text": [
      "[ 6  5  4  5  7  6  1 19 11  3  5  5 11  5  4  2 14  7 12 10  3  5 11  6\n",
      " 22 19  6  3  6 10  4  2 13  8  9  9  7  7  7  7  8  5  6 13 10  6 14 12\n",
      " 14  7  7  1 12  8 24 19  8  2 15  4  4  7  2  2  5  6 12  3  8  3  9  5\n",
      "  8  4  5  1  4  3 11  8  6  6  4  8 17 14  7  7  8  6  7  6  6  3  4  4\n",
      "  4  4  9 14]\n"
     ]
    }
   ],
   "source": [
    "# Місце для Вашого коду\n",
    "bin_rvs=nbinom.rvs(n, p, loc=0, size=100, random_state=None)\n",
    "print(bin_rvs)"
   ]
  },
  {
   "cell_type": "markdown",
   "metadata": {},
   "source": [
    "Виведіть кількість кожного елемента в отриманому випадковому векторі."
   ]
  },
  {
   "cell_type": "code",
   "execution_count": 79,
   "metadata": {},
   "outputs": [
    {
     "name": "stdout",
     "output_type": "stream",
     "text": [
      "Кількість 1\n",
      "3\n",
      "Кількість 2\n",
      "5\n",
      "Кількість 3\n",
      "7\n",
      "Кількість 4\n",
      "12\n",
      "Кількість 5\n",
      "10\n",
      "Кількість 6\n",
      "13\n",
      "Кількість 7\n",
      "12\n",
      "Кількість 8\n",
      "9\n",
      "Кількість 9\n",
      "4\n",
      "Кількість 10\n",
      "3\n",
      "Кількість 11\n",
      "4\n",
      "Кількість 12\n",
      "4\n",
      "Кількість 13\n",
      "2\n",
      "Кількість 14\n",
      "5\n",
      "Кількість 15\n",
      "1\n",
      "Кількість 17\n",
      "1\n",
      "Кількість 19\n",
      "3\n",
      "Кількість 22\n",
      "1\n",
      "Кількість 24\n",
      "1\n"
     ]
    }
   ],
   "source": [
    "# Місце для Вашого коду\n",
    "for i in range(max(bin_rvs)+1):\n",
    "    if(sum(bin_rvs==i)!=0):\n",
    "        print(\"Кількість\",i)\n",
    "        print(format(sum(bin_rvs==i)))\n"
   ]
  },
  {
   "cell_type": "markdown",
   "metadata": {},
   "source": [
    "Зобразіть графічно кількість кожного елемента в отриманому випадковому векторі."
   ]
  },
  {
   "cell_type": "code",
   "execution_count": 77,
   "metadata": {
    "scrolled": true
   },
   "outputs": [
    {
     "data": {
      "image/png": "[encoded data removed]",
      "text/plain": [
       "<Figure size 432x288 with 1 Axes>"
      ]
     },
     "metadata": {
      "needs_background": "light"
     },
     "output_type": "display_data"
    }
   ],
   "source": [
    "# Місце для Вашого коду\n",
    "plt.hist(bin_rvs)\n",
    "plt.show()"
   ]
  },
  {
   "cell_type": "markdown",
   "metadata": {},
   "source": [
    "## 2 Гіпергеометричний розподіл"
   ]
  },
  {
   "cell_type": "markdown",
   "metadata": {},
   "source": [
    "Більш детальна інформація в [документації](https://docs.scipy.org/doc/scipy/reference/generated/scipy.stats.hypergeom.html)."
   ]
  },
  {
   "cell_type": "code",
   "execution_count": 6,
   "metadata": {},
   "outputs": [],
   "source": [
    "from scipy.stats import hypergeom"
   ]
  },
  {
   "cell_type": "code",
   "execution_count": 60,
   "metadata": {},
   "outputs": [],
   "source": [
    "M = 20\n",
    "n = 7\n",
    "N = 12"
   ]
  },
  {
   "cell_type": "markdown",
   "metadata": {},
   "source": [
    "### 2.1 Щільність"
   ]
  },
  {
   "cell_type": "code",
   "execution_count": 61,
   "metadata": {},
   "outputs": [],
   "source": [
    "x = np.arange(max(0, N-M+n)-0.5, min(n, N)+1, 0.5)"
   ]
  },
  {
   "cell_type": "markdown",
   "metadata": {},
   "source": [
    "Виведіть значення функції щільності гіпергеометричного розподілу з параметрами $M, n, N$ в точках вектора $x$."
   ]
  },
  {
   "cell_type": "code",
   "execution_count": 66,
   "metadata": {},
   "outputs": [
    {
     "name": "stdout",
     "output_type": "stream",
     "text": [
      "[0.00000000e+00 1.03199174e-04 0.00000000e+00 4.33436533e-03\n",
      " 0.00000000e+00 4.76780186e-02 0.00000000e+00 1.98658411e-01\n",
      " 0.00000000e+00 3.57585139e-01 0.00000000e+00 2.86068111e-01\n",
      " 0.00000000e+00 9.53560372e-02 0.00000000e+00 1.02167183e-02\n",
      " 0.00000000e+00]\n"
     ]
    }
   ],
   "source": [
    "# Місце для Вашого коду\n",
    "y=hypergeom.pmf(x, M, n, N)\n",
    "print(y)\n"
   ]
  },
  {
   "cell_type": "markdown",
   "metadata": {},
   "source": [
    "Зобразіть графічно значення функції щільності гіпергеометричного розподілу з параметрами $M, n, N$ в точках вектора $x$."
   ]
  },
  {
   "cell_type": "code",
   "execution_count": 67,
   "metadata": {},
   "outputs": [
    {
     "data": {
      "image/png": "[encoded data removed]",
      "text/plain": [
       "<Figure size 432x288 with 1 Axes>"
      ]
     },
     "metadata": {
      "needs_background": "light"
     },
     "output_type": "display_data"
    }
   ],
   "source": [
    "# Місце для Вашого коду\n",
    "plt.stem(x, y)\n",
    "plt.show()\n"
   ]
  },
  {
   "cell_type": "markdown",
   "metadata": {},
   "source": [
    "Зобразіть графічно значення функції щільності гіпергеометричного розподілу з параметрами $M, n, N$ в точках вектора $x1$."
   ]
  },
  {
   "cell_type": "code",
   "execution_count": 68,
   "metadata": {},
   "outputs": [],
   "source": [
    "x1 = np.arange(max(0, N-M+n), min(n, N)+1)"
   ]
  },
  {
   "cell_type": "code",
   "execution_count": 69,
   "metadata": {},
   "outputs": [
    {
     "data": {
      "image/png": "[encoded data removed]",
      "text/plain": [
       "<Figure size 432x288 with 1 Axes>"
      ]
     },
     "metadata": {
      "needs_background": "light"
     },
     "output_type": "display_data"
    }
   ],
   "source": [
    "# Місце для Вашого коду\n",
    "y1=hypergeom.pmf(x1, M, n, N)\n",
    "plt.stem(x1, y1)\n",
    "plt.show()\n",
    "\n"
   ]
  },
  {
   "cell_type": "markdown",
   "metadata": {},
   "source": [
    "### 2.2 Функція розподілу"
   ]
  },
  {
   "cell_type": "markdown",
   "metadata": {},
   "source": [
    "Виведіть значення функції розподілу гіпергеометричного розподілу з параметрами $M, n, N$ в точках вектора $x$."
   ]
  },
  {
   "cell_type": "code",
   "execution_count": 70,
   "metadata": {},
   "outputs": [
    {
     "name": "stdout",
     "output_type": "stream",
     "text": [
      "[0.00000000e+00 1.03199174e-04 1.03199174e-04 4.43756450e-03\n",
      " 4.43756450e-03 5.21155831e-02 5.21155831e-02 2.50773994e-01\n",
      " 2.50773994e-01 6.08359133e-01 6.08359133e-01 8.94427245e-01\n",
      " 8.94427245e-01 9.89783282e-01 9.89783282e-01 1.00000000e+00\n",
      " 1.00000000e+00]\n"
     ]
    }
   ],
   "source": [
    "# Місце для Вашого коду\n",
    "y=hypergeom.cdf(x, M, n, N)\n",
    "print(y)"
   ]
  },
  {
   "cell_type": "markdown",
   "metadata": {},
   "source": [
    "Зобразіть графічно значення функції розподілу гіпергеометричного розподілу з параметрами $M, n, N$ в точках вектора $x$."
   ]
  },
  {
   "cell_type": "code",
   "execution_count": 71,
   "metadata": {},
   "outputs": [
    {
     "data": {
      "image/png": "[encoded data removed]",
      "text/plain": [
       "<Figure size 432x288 with 1 Axes>"
      ]
     },
     "metadata": {
      "needs_background": "light"
     },
     "output_type": "display_data"
    }
   ],
   "source": [
    "# Місце для Вашого код\n",
    "plt.plot(x, y, drawstyle='steps-post')\n",
    "plt.show()\n",
    "\n"
   ]
  },
  {
   "cell_type": "markdown",
   "metadata": {},
   "source": [
    "### 2.3 Випадкові величини"
   ]
  },
  {
   "cell_type": "markdown",
   "metadata": {},
   "source": [
    "Згенеруйте $100$ випадкових величин з гіпергеометричного розподілу з параметрами $M, n, N$."
   ]
  },
  {
   "cell_type": "code",
   "execution_count": 72,
   "metadata": {},
   "outputs": [
    {
     "name": "stdout",
     "output_type": "stream",
     "text": [
      "[6 7 4 3 5 4 4 4 5 5 5 3 5 6 4 3 3 4 4 7 5 5 3 6 5 4 4 5 4 3 4 4 6 5 3 5 4\n",
      " 6 3 4 5 3 2 5 1 5 4 5 3 2 6 4 4 5 4 5 6 4 5 6 4 5 4 5 3 4 4 5 5 4 3 6 3 4\n",
      " 4 4 5 3 3 5 4 3 3 4 4 5 4 6 5 5 6 4 5 5 3 3 4 6 3 4]\n"
     ]
    }
   ],
   "source": [
    "# Місце для Вашого коду\n",
    "h_rvs=hypergeom.rvs(M,n,N,size=100)\n",
    "print(h_rvs)\n"
   ]
  },
  {
   "cell_type": "markdown",
   "metadata": {},
   "source": [
    "Виведіть кількість кожного елемента в отриманому випадковому векторі."
   ]
  },
  {
   "cell_type": "code",
   "execution_count": 73,
   "metadata": {},
   "outputs": [
    {
     "name": "stdout",
     "output_type": "stream",
     "text": [
      "Кількість 1\n",
      "1\n",
      "Кількість 2\n",
      "2\n",
      "Кількість 3\n",
      "20\n",
      "Кількість 4\n",
      "34\n",
      "Кількість 5\n",
      "29\n",
      "Кількість 6\n",
      "12\n",
      "Кількість 7\n",
      "2\n"
     ]
    }
   ],
   "source": [
    "# Місце для Вашого коду\n",
    "\n",
    "\n",
    "for i in range(max(h_rvs)+1):\n",
    "    if(sum(h_rvs==i)):\n",
    "        print(\"Кількість\",i)\n",
    "        print(format(sum(h_rvs==i)))"
   ]
  },
  {
   "cell_type": "markdown",
   "metadata": {},
   "source": [
    "Зобразіть графічно кількість кожного елемента в отриманому випадковому векторі."
   ]
  },
  {
   "cell_type": "code",
   "execution_count": 78,
   "metadata": {
    "scrolled": true
   },
   "outputs": [
    {
     "data": {
      "image/png": "[encoded data removed]",
      "text/plain": [
       "<Figure size 432x288 with 1 Axes>"
      ]
     },
     "metadata": {
      "needs_background": "light"
     },
     "output_type": "display_data"
    }
   ],
   "source": [
    "# Місце для Вашого коду\n",
    "plt.hist(h_rvs)\n",
    "plt.show()"
   ]
  },
  {
   "cell_type": "markdown",
   "metadata": {},
   "source": [
    "## 3 Різні параметри"
   ]
  },
  {
   "cell_type": "markdown",
   "metadata": {},
   "source": [
    "### 3.1 Біноміальний розподіл"
   ]
  },
  {
   "cell_type": "markdown",
   "metadata": {},
   "source": [
    "Зобразіть графічно функцію щільності, функцію розподілу та гістограму $10000$ випадкових величин біноміального розподілу з параметрами:\n",
    "1. $n = 15, p = 0.8$\n",
    "2. $n = 15, p = 0.2$\n",
    "3. $n = 20, p = 0.4$\n",
    "4. $n = 20, p = 0.6$\n",
    "5. $n = 7, p = 0.5$\n",
    "6. $n = 25, p = 0.5$\n",
    "7. $n = 100, p = 0.5$"
   ]
  },
  {
   "cell_type": "code",
   "execution_count": 129,
   "metadata": {},
   "outputs": [
    {
     "data": {
      "image/png": "[encoded data removed]",
      "text/plain": [
       "<Figure size 432x288 with 1 Axes>"
      ]
     },
     "metadata": {
      "needs_background": "light"
     },
     "output_type": "display_data"
    },
    {
     "data": {
      "image/png": "[encoded data removed]",
      "text/plain": [
       "<Figure size 432x288 with 1 Axes>"
      ]
     },
     "metadata": {
      "needs_background": "light"
     },
     "output_type": "display_data"
    },
    {
     "name": "stdout",
     "output_type": "stream",
     "text": [
      "Кількість 6\n",
      "6\n",
      "Кількість 7\n",
      "44\n",
      "Кількість 8\n",
      "136\n",
      "Кількість 9\n",
      "446\n",
      "Кількість 10\n",
      "1022\n",
      "Кількість 11\n",
      "1806\n",
      "Кількість 12\n",
      "2566\n",
      "Кількість 13\n",
      "2268\n",
      "Кількість 14\n",
      "1306\n",
      "Кількість 15\n",
      "400\n"
     ]
    },
    {
     "data": {
      "image/png": "[encoded data removed]",
      "text/plain": [
       "<Figure size 432x288 with 1 Axes>"
      ]
     },
     "metadata": {
      "needs_background": "light"
     },
     "output_type": "display_data"
    }
   ],
   "source": [
    "# Місце для Вашого коду\n",
    "from scipy.stats import binom\n",
    "n=15\n",
    "p=0.8\n",
    "x = np.arange(-0.5, n*5+1, 0.5)\n",
    "y = binom.pmf(x,n, p)\n",
    "plt.stem(x,y)\n",
    "plt.show()\n",
    "y = binom.cdf(x,n, p)\n",
    "plt.plot(x, y, drawstyle='steps-post')\n",
    "plt.show()\n",
    "bin_rvs=binom.rvs(n, p, loc=0, size=10000, random_state=None)\n",
    "for i in range(max(bin_rvs)+1):\n",
    "    if(sum(bin_rvs==i)!=0):\n",
    "        print(\"Кількість\",i)\n",
    "        print(format(sum(bin_rvs==i)))\n",
    "plt.hist(bin_rvs)\n",
    "plt.show()\n"
   ]
  },
  {
   "cell_type": "code",
   "execution_count": 130,
   "metadata": {},
   "outputs": [
    {
     "data": {
      "image/png": "[encoded data removed]",
      "text/plain": [
       "<Figure size 432x288 with 1 Axes>"
      ]
     },
     "metadata": {
      "needs_background": "light"
     },
     "output_type": "display_data"
    },
    {
     "data": {
      "image/png": "[encoded data removed]",
      "text/plain": [
       "<Figure size 432x288 with 1 Axes>"
      ]
     },
     "metadata": {
      "needs_background": "light"
     },
     "output_type": "display_data"
    },
    {
     "name": "stdout",
     "output_type": "stream",
     "text": [
      "Кількість 5\n",
      "2\n",
      "Кількість 6\n",
      "8\n",
      "Кількість 7\n",
      "31\n",
      "Кількість 8\n",
      "117\n",
      "Кількість 9\n",
      "447\n",
      "Кількість 10\n",
      "1071\n",
      "Кількість 11\n",
      "1862\n",
      "Кількість 12\n",
      "2502\n",
      "Кількість 13\n",
      "2281\n",
      "Кількість 14\n",
      "1296\n",
      "Кількість 15\n",
      "383\n"
     ]
    },
    {
     "data": {
      "image/png": "[encoded data removed]",
      "text/plain": [
       "<Figure size 432x288 with 1 Axes>"
      ]
     },
     "metadata": {
      "needs_background": "light"
     },
     "output_type": "display_data"
    }
   ],
   "source": [
    "n=15\n",
    "p=0.8\n",
    "x = np.arange(-0.5, n*5+1, 0.5)\n",
    "y = binom.pmf(x,n, p)\n",
    "plt.stem(x,y)\n",
    "plt.show()\n",
    "y = binom.cdf(x,n, p)\n",
    "plt.plot(x, y, drawstyle='steps-post')\n",
    "plt.show()\n",
    "bin_rvs=binom.rvs(n, p, loc=0, size=10000, random_state=None)\n",
    "\n",
    "for i in range(max(bin_rvs)+1):\n",
    "    if(sum(bin_rvs==i)!=0):\n",
    "        print(\"Кількість\",i)\n",
    "        print(format(sum(bin_rvs==i)))\n",
    "plt.hist(bin_rvs)\n",
    "plt.show()"
   ]
  },
  {
   "cell_type": "code",
   "execution_count": 131,
   "metadata": {},
   "outputs": [
    {
     "data": {
      "image/png": "[encoded data removed]",
      "text/plain": [
       "<Figure size 432x288 with 1 Axes>"
      ]
     },
     "metadata": {
      "needs_background": "light"
     },
     "output_type": "display_data"
    },
    {
     "data": {
      "image/png": "[encoded data removed]",
      "text/plain": [
       "<Figure size 432x288 with 1 Axes>"
      ]
     },
     "metadata": {
      "needs_background": "light"
     },
     "output_type": "display_data"
    },
    {
     "name": "stdout",
     "output_type": "stream",
     "text": [
      "Кількість 0\n",
      "363\n",
      "Кількість 1\n",
      "1315\n",
      "Кількість 2\n",
      "2283\n",
      "Кількість 3\n",
      "2562\n",
      "Кількість 4\n",
      "1802\n",
      "Кількість 5\n",
      "1024\n",
      "Кількість 6\n",
      "456\n",
      "Кількість 7\n",
      "143\n",
      "Кількість 8\n",
      "43\n",
      "Кількість 9\n",
      "7\n",
      "Кількість 10\n",
      "2\n"
     ]
    },
    {
     "data": {
      "image/png": "[encoded data removed]",
      "text/plain": [
       "<Figure size 432x288 with 1 Axes>"
      ]
     },
     "metadata": {
      "needs_background": "light"
     },
     "output_type": "display_data"
    }
   ],
   "source": [
    "n=15\n",
    "p=0.2\n",
    "\n",
    "x = np.arange(-0.5, n*5+1, 0.5)\n",
    "y = binom.pmf(x,n, p)\n",
    "plt.stem(x,y)\n",
    "plt.show()\n",
    "y = binom.cdf(x,n, p)\n",
    "plt.plot(x, y, drawstyle='steps-post')\n",
    "plt.show()\n",
    "bin_rvs=binom.rvs(n, p, loc=0, size=10000, random_state=None)\n",
    "\n",
    "for i in range(max(bin_rvs)+1):\n",
    "    if(sum(bin_rvs==i)!=0):\n",
    "        print(\"Кількість\",i)\n",
    "        print(format(sum(bin_rvs==i)))\n",
    "plt.hist(bin_rvs)\n",
    "plt.show()"
   ]
  },
  {
   "cell_type": "code",
   "execution_count": 132,
   "metadata": {},
   "outputs": [
    {
     "data": {
      "image/png": "[encoded data removed]",
      "text/plain": [
       "<Figure size 432x288 with 1 Axes>"
      ]
     },
     "metadata": {
      "needs_background": "light"
     },
     "output_type": "display_data"
    },
    {
     "data": {
      "image/png": "[encoded data removed]",
      "text/plain": [
       "<Figure size 432x288 with 1 Axes>"
      ]
     },
     "metadata": {
      "needs_background": "light"
     },
     "output_type": "display_data"
    },
    {
     "name": "stdout",
     "output_type": "stream",
     "text": [
      "Кількість 1\n",
      "6\n",
      "Кількість 2\n",
      "41\n",
      "Кількість 3\n",
      "114\n",
      "Кількість 4\n",
      "354\n",
      "Кількість 5\n",
      "738\n",
      "Кількість 6\n",
      "1183\n",
      "Кількість 7\n",
      "1682\n",
      "Кількість 8\n",
      "1810\n",
      "Кількість 9\n",
      "1632\n",
      "Кількість 10\n",
      "1156\n",
      "Кількість 11\n",
      "712\n",
      "Кількість 12\n",
      "348\n",
      "Кількість 13\n",
      "157\n",
      "Кількість 14\n",
      "54\n",
      "Кількість 15\n",
      "6\n",
      "Кількість 16\n",
      "5\n",
      "Кількість 17\n",
      "2\n"
     ]
    },
    {
     "data": {
      "image/png": "[encoded data removed]",
      "text/plain": [
       "<Figure size 432x288 with 1 Axes>"
      ]
     },
     "metadata": {
      "needs_background": "light"
     },
     "output_type": "display_data"
    }
   ],
   "source": [
    "n=20\n",
    "p=0.4\n",
    "\n",
    "x = np.arange(-0.5, n*5+1, 0.5)\n",
    "y = binom.pmf(x,n, p)\n",
    "plt.stem(x,y)\n",
    "plt.show()\n",
    "y = binom.cdf(x,n, p)\n",
    "plt.plot(x, y, drawstyle='steps-post')\n",
    "plt.show()\n",
    "bin_rvs=binom.rvs(n, p, loc=0, size=10000, random_state=None)\n",
    "\n",
    "for i in range(max(bin_rvs)+1):\n",
    "    if(sum(bin_rvs==i)!=0):\n",
    "        print(\"Кількість\",i)\n",
    "        print(format(sum(bin_rvs==i)))\n",
    "plt.hist(bin_rvs)\n",
    "plt.show()"
   ]
  },
  {
   "cell_type": "code",
   "execution_count": 133,
   "metadata": {},
   "outputs": [
    {
     "data": {
      "image/png": "[encoded data removed]",
      "text/plain": [
       "<Figure size 432x288 with 1 Axes>"
      ]
     },
     "metadata": {
      "needs_background": "light"
     },
     "output_type": "display_data"
    },
    {
     "data": {
      "image/png": "[encoded data removed]",
      "text/plain": [
       "<Figure size 432x288 with 1 Axes>"
      ]
     },
     "metadata": {
      "needs_background": "light"
     },
     "output_type": "display_data"
    },
    {
     "name": "stdout",
     "output_type": "stream",
     "text": [
      "Кількість 4\n",
      "1\n",
      "Кількість 5\n",
      "10\n",
      "Кількість 6\n",
      "56\n",
      "Кількість 7\n",
      "141\n",
      "Кількість 8\n",
      "369\n",
      "Кількість 9\n",
      "740\n",
      "Кількість 10\n",
      "1164\n",
      "Кількість 11\n",
      "1567\n",
      "Кількість 12\n",
      "1809\n",
      "Кількість 13\n",
      "1590\n",
      "Кількість 14\n",
      "1313\n",
      "Кількість 15\n",
      "724\n",
      "Кількість 16\n",
      "348\n",
      "Кількість 17\n",
      "121\n",
      "Кількість 18\n",
      "41\n",
      "Кількість 19\n",
      "5\n",
      "Кількість 20\n",
      "1\n"
     ]
    },
    {
     "data": {
      "image/png": "[encoded data removed]",
      "text/plain": [
       "<Figure size 432x288 with 1 Axes>"
      ]
     },
     "metadata": {
      "needs_background": "light"
     },
     "output_type": "display_data"
    }
   ],
   "source": [
    "n=20\n",
    "p=0.6\n",
    "x = np.arange(-0.5, n*5+1, 0.5)\n",
    "y = binom.pmf(x,n, p)\n",
    "plt.stem(x,y)\n",
    "plt.show()\n",
    "y = binom.cdf(x,n, p)\n",
    "plt.plot(x, y, drawstyle='steps-post')\n",
    "plt.show()\n",
    "bin_rvs=binom.rvs(n, p, loc=0, size=10000, random_state=None)\n",
    "\n",
    "for i in range(max(bin_rvs)+1):\n",
    "    if(sum(bin_rvs==i)!=0):\n",
    "        print(\"Кількість\",i)\n",
    "        print(format(sum(bin_rvs==i)))\n",
    "plt.hist(bin_rvs)\n",
    "plt.show()"
   ]
  },
  {
   "cell_type": "code",
   "execution_count": 134,
   "metadata": {},
   "outputs": [
    {
     "data": {
      "image/png": "[encoded data removed]",
      "text/plain": [
       "<Figure size 432x288 with 1 Axes>"
      ]
     },
     "metadata": {
      "needs_background": "light"
     },
     "output_type": "display_data"
    },
    {
     "data": {
      "image/png": "[encoded data removed]",
      "text/plain": [
       "<Figure size 432x288 with 1 Axes>"
      ]
     },
     "metadata": {
      "needs_background": "light"
     },
     "output_type": "display_data"
    },
    {
     "name": "stdout",
     "output_type": "stream",
     "text": [
      "Кількість 0\n",
      "62\n",
      "Кількість 1\n",
      "527\n",
      "Кількість 2\n",
      "1629\n",
      "Кількість 3\n",
      "2740\n",
      "Кількість 4\n",
      "2718\n",
      "Кількість 5\n",
      "1654\n",
      "Кількість 6\n",
      "587\n",
      "Кількість 7\n",
      "83\n"
     ]
    },
    {
     "data": {
      "image/png": "[encoded data removed]",
      "text/plain": [
       "<Figure size 432x288 with 1 Axes>"
      ]
     },
     "metadata": {
      "needs_background": "light"
     },
     "output_type": "display_data"
    }
   ],
   "source": [
    "n=7\n",
    "p=0.5 \n",
    "x = np.arange(-0.5, n*5+1, 0.5)\n",
    "y = binom.pmf(x,n, p)\n",
    "plt.stem(x,y)\n",
    "plt.show()\n",
    "y = binom.cdf(x,n, p)\n",
    "plt.plot(x, y, drawstyle='steps-post')\n",
    "plt.show()\n",
    "bin_rvs=binom.rvs(n, p, loc=0, size=10000, random_state=None)\n",
    "\n",
    "for i in range(max(bin_rvs)+1):\n",
    "    if(sum(bin_rvs==i)!=0):\n",
    "        print(\"Кількість\",i)\n",
    "        print(format(sum(bin_rvs==i)))\n",
    "plt.hist(bin_rvs)\n",
    "plt.show()"
   ]
  },
  {
   "cell_type": "code",
   "execution_count": 135,
   "metadata": {},
   "outputs": [
    {
     "data": {
      "image/png": "[encoded data removed]",
      "text/plain": [
       "<Figure size 432x288 with 1 Axes>"
      ]
     },
     "metadata": {
      "needs_background": "light"
     },
     "output_type": "display_data"
    },
    {
     "data": {
      "image/png": "[encoded data removed]",
      "text/plain": [
       "<Figure size 432x288 with 1 Axes>"
      ]
     },
     "metadata": {
      "needs_background": "light"
     },
     "output_type": "display_data"
    },
    {
     "name": "stdout",
     "output_type": "stream",
     "text": [
      "Кількість 4\n",
      "4\n",
      "Кількість 5\n",
      "10\n",
      "Кількість 6\n",
      "55\n",
      "Кількість 7\n",
      "138\n",
      "Кількість 8\n",
      "294\n",
      "Кількість 9\n",
      "578\n",
      "Кількість 10\n",
      "964\n",
      "Кількість 11\n",
      "1295\n",
      "Кількість 12\n",
      "1543\n",
      "Кількість 13\n",
      "1662\n",
      "Кількість 14\n",
      "1320\n",
      "Кількість 15\n",
      "1050\n",
      "Кількість 16\n",
      "563\n",
      "Кількість 17\n",
      "290\n",
      "Кількість 18\n",
      "157\n",
      "Кількість 19\n",
      "53\n",
      "Кількість 20\n",
      "22\n",
      "Кількість 21\n",
      "1\n",
      "Кількість 22\n",
      "1\n"
     ]
    },
    {
     "data": {
      "image/png": "[encoded data removed]",
      "text/plain": [
       "<Figure size 432x288 with 1 Axes>"
      ]
     },
     "metadata": {
      "needs_background": "light"
     },
     "output_type": "display_data"
    }
   ],
   "source": [
    "n=25\n",
    "p=0.5\n",
    "x = np.arange(-0.5, n*5+1, 0.5)\n",
    "y = binom.pmf(x,n, p)\n",
    "plt.stem(x,y)\n",
    "plt.show()\n",
    "y = binom.cdf(x,n, p)\n",
    "plt.plot(x, y, drawstyle='steps-post')\n",
    "plt.show()\n",
    "bin_rvs=binom.rvs(n, p, loc=0, size=10000, random_state=None)\n",
    "\n",
    "for i in range(max(bin_rvs)+1):\n",
    "    if(sum(bin_rvs==i)!=0):\n",
    "        print(\"Кількість\",i)\n",
    "        print(format(sum(bin_rvs==i)))\n",
    "plt.hist(bin_rvs)\n",
    "plt.show()"
   ]
  },
  {
   "cell_type": "code",
   "execution_count": 137,
   "metadata": {},
   "outputs": [
    {
     "data": {
      "image/png": "[encoded data removed]",
      "text/plain": [
       "<Figure size 432x288 with 1 Axes>"
      ]
     },
     "metadata": {
      "needs_background": "light"
     },
     "output_type": "display_data"
    },
    {
     "data": {
      "image/png": "[encoded data removed]",
      "text/plain": [
       "<Figure size 432x288 with 1 Axes>"
      ]
     },
     "metadata": {
      "needs_background": "light"
     },
     "output_type": "display_data"
    },
    {
     "name": "stdout",
     "output_type": "stream",
     "text": [
      "Кількість 31\n",
      "1\n",
      "Кількість 33\n",
      "4\n",
      "Кількість 34\n",
      "2\n",
      "Кількість 35\n",
      "10\n",
      "Кількість 36\n",
      "10\n",
      "Кількість 37\n",
      "31\n",
      "Кількість 38\n",
      "37\n",
      "Кількість 39\n",
      "70\n",
      "Кількість 40\n",
      "108\n",
      "Кількість 41\n",
      "171\n",
      "Кількість 42\n",
      "214\n",
      "Кількість 43\n",
      "278\n",
      "Кількість 44\n",
      "431\n",
      "Кількість 45\n",
      "518\n",
      "Кількість 46\n",
      "583\n",
      "Кількість 47\n",
      "609\n",
      "Кількість 48\n",
      "748\n",
      "Кількість 49\n",
      "776\n",
      "Кількість 50\n",
      "801\n",
      "Кількість 51\n",
      "772\n",
      "Кількість 52\n",
      "764\n",
      "Кількість 53\n",
      "621\n",
      "Кількість 54\n",
      "574\n",
      "Кількість 55\n",
      "483\n",
      "Кількість 56\n",
      "372\n",
      "Кількість 57\n",
      "320\n",
      "Кількість 58\n",
      "258\n",
      "Кількість 59\n",
      "156\n",
      "Кількість 60\n",
      "100\n",
      "Кількість 61\n",
      "75\n",
      "Кількість 62\n",
      "45\n",
      "Кількість 63\n",
      "22\n",
      "Кількість 64\n",
      "12\n",
      "Кількість 65\n",
      "13\n",
      "Кількість 66\n",
      "6\n",
      "Кількість 67\n",
      "3\n",
      "Кількість 68\n",
      "1\n",
      "Кількість 69\n",
      "1\n"
     ]
    },
    {
     "data": {
      "image/png": "[encoded data removed]",
      "text/plain": [
       "<Figure size 432x288 with 1 Axes>"
      ]
     },
     "metadata": {
      "needs_background": "light"
     },
     "output_type": "display_data"
    }
   ],
   "source": [
    "n=100\n",
    "p=0.5\n",
    "x = np.arange(-0.5, n*5+1, 0.5)\n",
    "y = binom.pmf(x,n, p)\n",
    "plt.stem(x,y)\n",
    "plt.show()\n",
    "y = binom.cdf(x,n, p)\n",
    "plt.plot(x, y, drawstyle='steps-post')\n",
    "plt.show()\n",
    "bin_rvs=binom.rvs(n, p, loc=0, size=10000, random_state=None)\n",
    "\n",
    "for i in range(max(bin_rvs)+1):\n",
    "    if(sum(bin_rvs==i)!=0):\n",
    "        print(\"Кількість\",i)\n",
    "        print(format(sum(bin_rvs==i)))\n",
    "plt.hist(bin_rvs)\n",
    "plt.show()"
   ]
  },
  {
   "cell_type": "code",
   "execution_count": null,
   "metadata": {},
   "outputs": [],
   "source": []
  },
  {
   "cell_type": "markdown",
   "metadata": {},
   "source": [
    "### 3.2 Геометричний розподіл"
   ]
  },
  {
   "cell_type": "markdown",
   "metadata": {},
   "source": [
    "Зобразіть графічно функцію щільності, функцію розподілу та гістограму $10000$ випадкових величин геометричного розподілу з параметрами:\n",
    "1. $p = 0.1$\n",
    "2. $p = 0.2$\n",
    "3. $p = 0.3$\n",
    "4. $p = 0.4$\n",
    "5. $p = 0.5$\n",
    "6. $p = 0.6$\n",
    "7. $p = 0.7$\n",
    "8. $p = 0.8$\n",
    "9. $p = 0.9$"
   ]
  },
  {
   "cell_type": "code",
   "execution_count": 117,
   "metadata": {},
   "outputs": [
    {
     "data": {
      "image/png": "[encoded data removed]",
      "text/plain": [
       "<Figure size 432x288 with 1 Axes>"
      ]
     },
     "metadata": {
      "needs_background": "light"
     },
     "output_type": "display_data"
    },
    {
     "data": {
      "image/png": "[encoded data removed]",
      "text/plain": [
       "<Figure size 432x288 with 1 Axes>"
      ]
     },
     "metadata": {
      "needs_background": "light"
     },
     "output_type": "display_data"
    },
    {
     "name": "stdout",
     "output_type": "stream",
     "text": [
      "Кількість 1\n",
      "981\n",
      "Кількість 2\n",
      "894\n",
      "Кількість 3\n",
      "823\n",
      "Кількість 4\n",
      "771\n",
      "Кількість 5\n",
      "650\n",
      "Кількість 6\n",
      "620\n",
      "Кількість 7\n",
      "511\n",
      "Кількість 8\n",
      "508\n",
      "Кількість 9\n",
      "434\n",
      "Кількість 10\n",
      "410\n",
      "Кількість 11\n",
      "355\n",
      "Кількість 12\n",
      "319\n",
      "Кількість 13\n",
      "265\n",
      "Кількість 14\n",
      "241\n",
      "Кількість 15\n",
      "214\n",
      "Кількість 16\n",
      "212\n",
      "Кількість 17\n",
      "179\n",
      "Кількість 18\n",
      "160\n",
      "Кількість 19\n",
      "140\n",
      "Кількість 20\n",
      "133\n",
      "Кількість 21\n",
      "120\n",
      "Кількість 22\n",
      "115\n",
      "Кількість 23\n",
      "93\n",
      "Кількість 24\n",
      "87\n",
      "Кількість 25\n",
      "84\n",
      "Кількість 26\n",
      "68\n",
      "Кількість 27\n",
      "66\n",
      "Кількість 28\n",
      "47\n",
      "Кількість 29\n",
      "45\n",
      "Кількість 30\n",
      "54\n",
      "Кількість 31\n",
      "40\n",
      "Кількість 32\n",
      "31\n",
      "Кількість 33\n",
      "33\n",
      "Кількість 34\n",
      "29\n",
      "Кількість 35\n",
      "21\n",
      "Кількість 36\n",
      "19\n",
      "Кількість 37\n",
      "25\n",
      "Кількість 38\n",
      "15\n",
      "Кількість 39\n",
      "29\n",
      "Кількість 40\n",
      "18\n",
      "Кількість 41\n",
      "16\n",
      "Кількість 42\n",
      "10\n",
      "Кількість 43\n",
      "15\n",
      "Кількість 44\n",
      "9\n",
      "Кількість 45\n",
      "19\n",
      "Кількість 46\n",
      "4\n",
      "Кількість 47\n",
      "6\n",
      "Кількість 48\n",
      "3\n",
      "Кількість 49\n",
      "7\n",
      "Кількість 50\n",
      "5\n",
      "Кількість 51\n",
      "1\n",
      "Кількість 52\n",
      "3\n",
      "Кількість 53\n",
      "7\n",
      "Кількість 54\n",
      "3\n",
      "Кількість 55\n",
      "4\n",
      "Кількість 56\n",
      "2\n",
      "Кількість 57\n",
      "4\n",
      "Кількість 58\n",
      "2\n",
      "Кількість 60\n",
      "2\n",
      "Кількість 61\n",
      "3\n",
      "Кількість 62\n",
      "2\n",
      "Кількість 63\n",
      "1\n",
      "Кількість 64\n",
      "2\n",
      "Кількість 65\n",
      "1\n",
      "Кількість 66\n",
      "1\n",
      "Кількість 68\n",
      "1\n",
      "Кількість 71\n",
      "2\n",
      "Кількість 74\n",
      "1\n",
      "Кількість 76\n",
      "2\n",
      "Кількість 77\n",
      "1\n",
      "Кількість 78\n",
      "1\n",
      "Кількість 80\n",
      "1\n"
     ]
    },
    {
     "data": {
      "image/png": "[encoded data removed]",
      "text/plain": [
       "<Figure size 432x288 with 1 Axes>"
      ]
     },
     "metadata": {
      "needs_background": "light"
     },
     "output_type": "display_data"
    }
   ],
   "source": [
    "# Місце для Вашого коду\n",
    "from scipy.stats import geom\n",
    "p=0.1 \n",
    "x1 = np.arange(1, 10)\n",
    "y1=geom.pmf(x1,p)\n",
    "plt.stem(x1,y1)\n",
    "plt.show()\n",
    "y1=geom.cdf(x1,p)\n",
    "plt.stem(x1,y1)\n",
    "plt.show()\n",
    "g_rvs=geom.rvs( p, loc=0, size=10000, random_state=None)\n",
    "for i in range(max(g_rvs)+1):\n",
    "    if(sum(g_rvs==i)!=0):\n",
    "        print(\"Кількість\",i)\n",
    "        print(format(sum(g_rvs==i)))\n",
    "plt.hist(g_rvs)\n",
    "plt.show()"
   ]
  },
  {
   "cell_type": "code",
   "execution_count": null,
   "metadata": {},
   "outputs": [],
   "source": [
    "p=0.2\n",
    "x1 = np.arange(1, 10)\n",
    "y1=geom.pmf(x1,p)\n",
    "plt.stem(x1,y1)\n",
    "plt.show()\n",
    "y1=geom.cdf(x1,p)\n",
    "plt.stem(x1,y1)\n",
    "plt.show()\n",
    "g_rvs=geom.rvs( p, loc=0, size=10000, random_state=None)\n",
    "for i in range(max(g_rvs)+1):\n",
    "    if(sum(g_rvs==i)!=0):\n",
    "        print(\"Кількість\",i)\n",
    "        print(format(sum(g_rvs==i)))\n",
    "plt.hist(g_rvs)\n",
    "plt.show()\n"
   ]
  },
  {
   "cell_type": "code",
   "execution_count": 118,
   "metadata": {},
   "outputs": [
    {
     "data": {
      "image/png": "[encoded data removed]",
      "text/plain": [
       "<Figure size 432x288 with 1 Axes>"
      ]
     },
     "metadata": {
      "needs_background": "light"
     },
     "output_type": "display_data"
    },
    {
     "data": {
      "image/png": "[encoded data removed]",
      "text/plain": [
       "<Figure size 432x288 with 1 Axes>"
      ]
     },
     "metadata": {
      "needs_background": "light"
     },
     "output_type": "display_data"
    },
    {
     "name": "stdout",
     "output_type": "stream",
     "text": [
      "Кількість 1\n",
      "3004\n",
      "Кількість 2\n",
      "2089\n",
      "Кількість 3\n",
      "1490\n",
      "Кількість 4\n",
      "991\n",
      "Кількість 5\n",
      "728\n",
      "Кількість 6\n",
      "514\n",
      "Кількість 7\n",
      "321\n",
      "Кількість 8\n",
      "254\n",
      "Кількість 9\n",
      "190\n",
      "Кількість 10\n",
      "128\n",
      "Кількість 11\n",
      "92\n",
      "Кількість 12\n",
      "56\n",
      "Кількість 13\n",
      "46\n",
      "Кількість 14\n",
      "30\n",
      "Кількість 15\n",
      "21\n",
      "Кількість 16\n",
      "16\n",
      "Кількість 17\n",
      "12\n",
      "Кількість 18\n",
      "5\n",
      "Кількість 19\n",
      "4\n",
      "Кількість 20\n",
      "5\n",
      "Кількість 21\n",
      "2\n",
      "Кількість 23\n",
      "2\n"
     ]
    },
    {
     "data": {
      "image/png": "[encoded data removed]",
      "text/plain": [
       "<Figure size 432x288 with 1 Axes>"
      ]
     },
     "metadata": {
      "needs_background": "light"
     },
     "output_type": "display_data"
    }
   ],
   "source": [
    "p=0.3\n",
    "x1 = np.arange(1, 10)\n",
    "y1=geom.pmf(x1,p)\n",
    "plt.stem(x1,y1)\n",
    "plt.show()\n",
    "y1=geom.cdf(x1,p)\n",
    "plt.stem(x1,y1)\n",
    "plt.show()\n",
    "g_rvs=geom.rvs( p, loc=0, size=10000, random_state=None)\n",
    "for i in range(max(g_rvs)+1):\n",
    "    if(sum(g_rvs==i)!=0):\n",
    "        print(\"Кількість\",i)\n",
    "        print(format(sum(g_rvs==i)))\n",
    "plt.hist(g_rvs)\n",
    "plt.show()\n"
   ]
  },
  {
   "cell_type": "code",
   "execution_count": 127,
   "metadata": {},
   "outputs": [
    {
     "data": {
      "image/png": "[encoded data removed]",
      "text/plain": [
       "<Figure size 432x288 with 1 Axes>"
      ]
     },
     "metadata": {
      "needs_background": "light"
     },
     "output_type": "display_data"
    },
    {
     "data": {
      "image/png": "[encoded data removed]",
      "text/plain": [
       "<Figure size 432x288 with 1 Axes>"
      ]
     },
     "metadata": {
      "needs_background": "light"
     },
     "output_type": "display_data"
    },
    {
     "name": "stdout",
     "output_type": "stream",
     "text": [
      "Кількість 1\n",
      "4066\n",
      "Кількість 2\n",
      "2359\n",
      "Кількість 3\n",
      "1436\n",
      "Кількість 4\n",
      "863\n",
      "Кількість 5\n",
      "496\n",
      "Кількість 6\n",
      "322\n",
      "Кількість 7\n",
      "180\n",
      "Кількість 8\n",
      "131\n",
      "Кількість 9\n",
      "54\n",
      "Кількість 10\n",
      "37\n",
      "Кількість 11\n",
      "20\n",
      "Кількість 12\n",
      "13\n",
      "Кількість 13\n",
      "10\n",
      "Кількість 14\n",
      "8\n",
      "Кількість 15\n",
      "2\n",
      "Кількість 16\n",
      "2\n",
      "Кількість 17\n",
      "1\n"
     ]
    },
    {
     "data": {
      "image/png": "[encoded data removed]",
      "text/plain": [
       "<Figure size 432x288 with 1 Axes>"
      ]
     },
     "metadata": {
      "needs_background": "light"
     },
     "output_type": "display_data"
    }
   ],
   "source": [
    "p=0.4\n",
    "x1 = np.arange(1, 10)\n",
    "y1=geom.pmf(x1,p)\n",
    "plt.stem(x1,y1)\n",
    "plt.show()\n",
    "y1=geom.cdf(x1,p)\n",
    "plt.stem(x1,y1)\n",
    "plt.show()\n",
    "g_rvs=geom.rvs( p, loc=0, size=10000, random_state=None)\n",
    "for i in range(max(g_rvs)+1):\n",
    "    if(sum(g_rvs==i)!=0):\n",
    "        print(\"Кількість\",i)\n",
    "        print(format(sum(g_rvs==i)))\n",
    "plt.hist(g_rvs)\n",
    "plt.show()"
   ]
  },
  {
   "cell_type": "code",
   "execution_count": 119,
   "metadata": {},
   "outputs": [
    {
     "data": {
      "image/png": "[encoded data removed]",
      "text/plain": [
       "<Figure size 432x288 with 1 Axes>"
      ]
     },
     "metadata": {
      "needs_background": "light"
     },
     "output_type": "display_data"
    },
    {
     "data": {
      "image/png": "[encoded data removed]",
      "text/plain": [
       "<Figure size 432x288 with 1 Axes>"
      ]
     },
     "metadata": {
      "needs_background": "light"
     },
     "output_type": "display_data"
    },
    {
     "name": "stdout",
     "output_type": "stream",
     "text": [
      "Кількість 1\n",
      "4941\n",
      "Кількість 2\n",
      "2479\n",
      "Кількість 3\n",
      "1344\n",
      "Кількість 4\n",
      "611\n",
      "Кількість 5\n",
      "315\n",
      "Кількість 6\n",
      "161\n",
      "Кількість 7\n",
      "70\n",
      "Кількість 8\n",
      "42\n",
      "Кількість 9\n",
      "20\n",
      "Кількість 10\n",
      "9\n",
      "Кількість 11\n",
      "5\n",
      "Кількість 12\n",
      "1\n",
      "Кількість 14\n",
      "1\n",
      "Кількість 16\n",
      "1\n"
     ]
    },
    {
     "data": {
      "image/png": "[encoded data removed]",
      "text/plain": [
       "<Figure size 432x288 with 1 Axes>"
      ]
     },
     "metadata": {
      "needs_background": "light"
     },
     "output_type": "display_data"
    }
   ],
   "source": [
    "p=0.5\n",
    "x1 = np.arange(1, 10)\n",
    "y1=geom.pmf(x1,p)\n",
    "plt.stem(x1,y1)\n",
    "plt.show()\n",
    "y1=geom.cdf(x1,p)\n",
    "plt.stem(x1,y1)\n",
    "plt.show()\n",
    "g_rvs=geom.rvs(p, loc=0, size=10000, random_state=None)\n",
    "for i in range(max(g_rvs)+1):\n",
    "    if(sum(g_rvs==i)!=0):\n",
    "        print(\"Кількість\",i)\n",
    "        print(format(sum(g_rvs==i)))\n",
    "plt.hist(g_rvs)\n",
    "plt.show()"
   ]
  },
  {
   "cell_type": "code",
   "execution_count": 121,
   "metadata": {},
   "outputs": [
    {
     "data": {
      "image/png": "[encoded data removed]",
      "text/plain": [
       "<Figure size 432x288 with 1 Axes>"
      ]
     },
     "metadata": {
      "needs_background": "light"
     },
     "output_type": "display_data"
    },
    {
     "data": {
      "image/png": "[encoded data removed]",
      "text/plain": [
       "<Figure size 432x288 with 1 Axes>"
      ]
     },
     "metadata": {
      "needs_background": "light"
     },
     "output_type": "display_data"
    },
    {
     "name": "stdout",
     "output_type": "stream",
     "text": [
      "Кількість 1\n",
      "5978\n",
      "Кількість 2\n",
      "2479\n",
      "Кількість 3\n",
      "929\n",
      "Кількість 4\n",
      "371\n",
      "Кількість 5\n",
      "162\n",
      "Кількість 6\n",
      "52\n",
      "Кількість 7\n",
      "18\n",
      "Кількість 8\n",
      "8\n",
      "Кількість 9\n",
      "1\n",
      "Кількість 10\n",
      "2\n"
     ]
    },
    {
     "data": {
      "image/png": "[encoded data removed]",
      "text/plain": [
       "<Figure size 432x288 with 1 Axes>"
      ]
     },
     "metadata": {
      "needs_background": "light"
     },
     "output_type": "display_data"
    }
   ],
   "source": [
    "p=0.6\n",
    "x1 = np.arange(1, 10)\n",
    "y1=geom.pmf(x1,p)\n",
    "plt.stem(x1,y1)\n",
    "plt.show()\n",
    "y1=geom.cdf(x1,p)\n",
    "plt.stem(x1,y1)\n",
    "plt.show()\n",
    "g_rvs=geom.rvs( p, loc=0, size=10000, random_state=None)\n",
    "for i in range(max(g_rvs)+1):\n",
    "    if(sum(g_rvs==i)!=0):\n",
    "        print(\"Кількість\",i)\n",
    "        print(format(sum(g_rvs==i)))\n",
    "plt.hist(g_rvs)\n",
    "plt.show()"
   ]
  },
  {
   "cell_type": "code",
   "execution_count": 122,
   "metadata": {},
   "outputs": [
    {
     "data": {
      "image/png": "[encoded data removed]",
      "text/plain": [
       "<Figure size 432x288 with 1 Axes>"
      ]
     },
     "metadata": {
      "needs_background": "light"
     },
     "output_type": "display_data"
    },
    {
     "data": {
      "image/png": "[encoded data removed]",
      "text/plain": [
       "<Figure size 432x288 with 1 Axes>"
      ]
     },
     "metadata": {
      "needs_background": "light"
     },
     "output_type": "display_data"
    },
    {
     "name": "stdout",
     "output_type": "stream",
     "text": [
      "Кількість 1\n",
      "7025\n",
      "Кількість 2\n",
      "2075\n",
      "Кількість 3\n",
      "607\n",
      "Кількість 4\n",
      "201\n",
      "Кількість 5\n",
      "71\n",
      "Кількість 6\n",
      "16\n",
      "Кількість 7\n",
      "5\n"
     ]
    },
    {
     "data": {
      "image/png": "[encoded data removed]",
      "text/plain": [
       "<Figure size 432x288 with 1 Axes>"
      ]
     },
     "metadata": {
      "needs_background": "light"
     },
     "output_type": "display_data"
    }
   ],
   "source": [
    "p=0.7 \n",
    "x1 = np.arange(1, 10)\n",
    "y1=geom.pmf(x1,p)\n",
    "plt.stem(x1,y1)\n",
    "plt.show()\n",
    "y1=geom.cdf(x1,p)\n",
    "plt.stem(x1,y1)\n",
    "plt.show()\n",
    "g_rvs=geom.rvs( p, loc=0, size=10000, random_state=None)\n",
    "for i in range(max(g_rvs)+1):\n",
    "    if(sum(g_rvs==i)!=0):\n",
    "        print(\"Кількість\",i)\n",
    "        print(format(sum(g_rvs==i)))\n",
    "plt.hist(g_rvs)\n",
    "plt.show()"
   ]
  },
  {
   "cell_type": "code",
   "execution_count": 123,
   "metadata": {},
   "outputs": [
    {
     "data": {
      "image/png": "[encoded data removed]",
      "text/plain": [
       "<Figure size 432x288 with 1 Axes>"
      ]
     },
     "metadata": {
      "needs_background": "light"
     },
     "output_type": "display_data"
    },
    {
     "data": {
      "image/png": "[encoded data removed]",
      "text/plain": [
       "<Figure size 432x288 with 1 Axes>"
      ]
     },
     "metadata": {
      "needs_background": "light"
     },
     "output_type": "display_data"
    },
    {
     "name": "stdout",
     "output_type": "stream",
     "text": [
      "Кількість 1\n",
      "7954\n",
      "Кількість 2\n",
      "1649\n",
      "Кількість 3\n",
      "316\n",
      "Кількість 4\n",
      "64\n",
      "Кількість 5\n",
      "11\n",
      "Кількість 6\n",
      "4\n",
      "Кількість 7\n",
      "1\n",
      "Кількість 8\n",
      "1\n"
     ]
    },
    {
     "data": {
      "image/png": "[encoded data removed]",
      "text/plain": [
       "<Figure size 432x288 with 1 Axes>"
      ]
     },
     "metadata": {
      "needs_background": "light"
     },
     "output_type": "display_data"
    }
   ],
   "source": [
    "p=0.8\n",
    "x1 = np.arange(1, 10)\n",
    "y1=geom.pmf(x1,p)\n",
    "plt.stem(x1,y1)\n",
    "plt.show()\n",
    "y1=geom.cdf(x1,p)\n",
    "plt.stem(x1,y1)\n",
    "plt.show()\n",
    "g_rvs=geom.rvs( p, loc=0, size=10000, random_state=None)\n",
    "for i in range(max(g_rvs)+1):\n",
    "    if(sum(g_rvs==i)!=0):\n",
    "        print(\"Кількість\",i)\n",
    "        print(format(sum(g_rvs==i)))\n",
    "plt.hist(g_rvs)\n",
    "plt.show()"
   ]
  },
  {
   "cell_type": "code",
   "execution_count": 124,
   "metadata": {},
   "outputs": [
    {
     "data": {
      "image/png": "[encoded data removed]",
      "text/plain": [
       "<Figure size 432x288 with 1 Axes>"
      ]
     },
     "metadata": {
      "needs_background": "light"
     },
     "output_type": "display_data"
    },
    {
     "data": {
      "image/png": "[encoded data removed]",
      "text/plain": [
       "<Figure size 432x288 with 1 Axes>"
      ]
     },
     "metadata": {
      "needs_background": "light"
     },
     "output_type": "display_data"
    },
    {
     "name": "stdout",
     "output_type": "stream",
     "text": [
      "Кількість 1\n",
      "9015\n",
      "Кількість 2\n",
      "901\n",
      "Кількість 3\n",
      "78\n",
      "Кількість 4\n",
      "6\n"
     ]
    },
    {
     "data": {
      "image/png": "[encoded data removed]",
      "text/plain": [
       "<Figure size 432x288 with 1 Axes>"
      ]
     },
     "metadata": {
      "needs_background": "light"
     },
     "output_type": "display_data"
    }
   ],
   "source": [
    "p=0.9\n",
    "x1 = np.arange(1, 10)\n",
    "y1=geom.pmf(x1,p)\n",
    "plt.stem(x1,y1)\n",
    "plt.show()\n",
    "y1=geom.cdf(x1,p)\n",
    "plt.stem(x1,y1)\n",
    "plt.show()\n",
    "g_rvs=geom.rvs( p, loc=0, size=10000, random_state=None)\n",
    "for i in range(max(g_rvs)+1):\n",
    "    if(sum(g_rvs==i)!=0):\n",
    "        print(\"Кількість\",i)\n",
    "        print(format(sum(g_rvs==i)))\n",
    "plt.hist(g_rvs)\n",
    "plt.show()"
   ]
  },
  {
   "cell_type": "markdown",
   "metadata": {},
   "source": [
    "### 3.3 Розподіл Пуассона"
   ]
  },
  {
   "cell_type": "markdown",
   "metadata": {},
   "source": [
    "Зобразіть графічно функцію щільності, функцію розподілу та гістограму $10000$ випадкових величин розподілу Пуассона з параметрами:\n",
    "1. $\\mu = 0.1$\n",
    "2. $\\mu = 0.2$\n",
    "3. $\\mu = 0.3$\n",
    "4. $\\mu = 0.4$\n",
    "5. $\\mu = 0.5$\n",
    "6. $\\mu = 0.6$\n",
    "7. $\\mu = 0.7$\n",
    "8. $\\mu = 0.8$\n",
    "9. $\\mu = 0.9$"
   ]
  },
  {
   "cell_type": "code",
   "execution_count": 28,
   "metadata": {
    "collapsed": true
   },
   "outputs": [],
   "source": [
    "# Місце для Вашого коду\n",
    "\n"
   ]
  },
  {
   "cell_type": "markdown",
   "metadata": {},
   "source": [
    "### 3.4 Від'ємний біноміальний розподіл"
   ]
  },
  {
   "cell_type": "markdown",
   "metadata": {},
   "source": [
    "Зобразіть графічно функцію щільності, функцію розподілу та гістограму $10000$ випадкових величин від'ємного біноміального розподілу з параметрами:\n",
    "1. $n = 15, p = 0.8$\n",
    "2. $n = 15, p = 0.2$\n",
    "3. $n = 20, p = 0.4$\n",
    "4. $n = 20, p = 0.6$\n",
    "5. $n = 7, p = 0.5$\n",
    "6. $n = 25, p = 0.5$\n",
    "7. $n = 100, p = 0.5$"
   ]
  },
  {
   "cell_type": "code",
   "execution_count": 138,
   "metadata": {},
   "outputs": [
    {
     "data": {
      "image/png": "[encoded data removed]",
      "text/plain": [
       "<Figure size 432x288 with 1 Axes>"
      ]
     },
     "metadata": {
      "needs_background": "light"
     },
     "output_type": "display_data"
    },
    {
     "data": {
      "image/png": "[encoded data removed]",
      "text/plain": [
       "<Figure size 432x288 with 1 Axes>"
      ]
     },
     "metadata": {
      "needs_background": "light"
     },
     "output_type": "display_data"
    },
    {
     "name": "stdout",
     "output_type": "stream",
     "text": [
      "Кількість 0\n",
      "370\n",
      "Кількість 1\n",
      "1070\n",
      "Кількість 2\n",
      "1618\n",
      "Кількість 3\n",
      "1984\n",
      "Кількість 4\n",
      "1790\n",
      "Кількість 5\n",
      "1284\n",
      "Кількість 6\n",
      "819\n",
      "Кількість 7\n",
      "539\n",
      "Кількість 8\n",
      "268\n",
      "Кількість 9\n",
      "156\n",
      "Кількість 10\n",
      "55\n",
      "Кількість 11\n",
      "25\n",
      "Кількість 12\n",
      "12\n",
      "Кількість 13\n",
      "6\n",
      "Кількість 14\n",
      "3\n",
      "Кількість 16\n",
      "1\n"
     ]
    },
    {
     "data": {
      "image/png": "[encoded data removed]",
      "text/plain": [
       "<Figure size 432x288 with 1 Axes>"
      ]
     },
     "metadata": {
      "needs_background": "light"
     },
     "output_type": "display_data"
    }
   ],
   "source": [
    "# Місце для Вашого коду\n",
    "n=15\n",
    "p=0.8\n",
    "x = np.arange(-0.5, n*5+1, 0.5)\n",
    "y = nbinom.pmf(x,n, p)\n",
    "plt.stem(x,y)\n",
    "plt.show()\n",
    "y = nbinom.cdf(x,n, p)\n",
    "plt.plot(x, y, drawstyle='steps-post')\n",
    "plt.show()\n",
    "bin_rvs=nbinom.rvs(n, p, loc=0, size=10000, random_state=None)\n",
    "for i in range(max(bin_rvs)+1):\n",
    "    if(sum(bin_rvs==i)!=0):\n",
    "        print(\"Кількість\",i)\n",
    "        print(format(sum(bin_rvs==i)))\n",
    "plt.hist(bin_rvs)\n",
    "plt.show()\n",
    "\n",
    "\n"
   ]
  },
  {
   "cell_type": "code",
   "execution_count": 139,
   "metadata": {},
   "outputs": [
    {
     "data": {
      "image/png": "[encoded data removed]",
      "text/plain": [
       "<Figure size 432x288 with 1 Axes>"
      ]
     },
     "metadata": {
      "needs_background": "light"
     },
     "output_type": "display_data"
    },
    {
     "data": {
      "image/png": "[encoded data removed]",
      "text/plain": [
       "<Figure size 432x288 with 1 Axes>"
      ]
     },
     "metadata": {
      "needs_background": "light"
     },
     "output_type": "display_data"
    },
    {
     "name": "stdout",
     "output_type": "stream",
     "text": [
      "Кількість 12\n",
      "1\n",
      "Кількість 14\n",
      "1\n",
      "Кількість 15\n",
      "2\n",
      "Кількість 16\n",
      "3\n",
      "Кількість 17\n",
      "2\n",
      "Кількість 18\n",
      "6\n",
      "Кількість 19\n",
      "3\n",
      "Кількість 20\n",
      "6\n",
      "Кількість 21\n",
      "4\n",
      "Кількість 22\n",
      "8\n",
      "Кількість 23\n",
      "9\n",
      "Кількість 24\n",
      "23\n",
      "Кількість 25\n",
      "14\n",
      "Кількість 26\n",
      "24\n",
      "Кількість 27\n",
      "28\n",
      "Кількість 28\n",
      "33\n",
      "Кількість 29\n",
      "45\n",
      "Кількість 30\n",
      "57\n",
      "Кількість 31\n",
      "55\n",
      "Кількість 32\n",
      "62\n",
      "Кількість 33\n",
      "73\n",
      "Кількість 34\n",
      "72\n",
      "Кількість 35\n",
      "90\n",
      "Кількість 36\n",
      "101\n",
      "Кількість 37\n",
      "86\n",
      "Кількість 38\n",
      "129\n",
      "Кількість 39\n",
      "135\n",
      "Кількість 40\n",
      "136\n",
      "Кількість 41\n",
      "157\n",
      "Кількість 42\n",
      "147\n",
      "Кількість 43\n",
      "186\n",
      "Кількість 44\n",
      "190\n",
      "Кількість 45\n",
      "196\n",
      "Кількість 46\n",
      "195\n",
      "Кількість 47\n",
      "224\n",
      "Кількість 48\n",
      "206\n",
      "Кількість 49\n",
      "227\n",
      "Кількість 50\n",
      "216\n",
      "Кількість 51\n",
      "230\n",
      "Кількість 52\n",
      "241\n",
      "Кількість 53\n",
      "244\n",
      "Кількість 54\n",
      "245\n",
      "Кількість 55\n",
      "230\n",
      "Кількість 56\n",
      "215\n",
      "Кількість 57\n",
      "248\n",
      "Кількість 58\n",
      "229\n",
      "Кількість 59\n",
      "254\n",
      "Кількість 60\n",
      "225\n",
      "Кількість 61\n",
      "267\n",
      "Кількість 62\n",
      "178\n",
      "Кількість 63\n",
      "189\n",
      "Кількість 64\n",
      "190\n",
      "Кількість 65\n",
      "209\n",
      "Кількість 66\n",
      "208\n",
      "Кількість 67\n",
      "186\n",
      "Кількість 68\n",
      "190\n",
      "Кількість 69\n",
      "178\n",
      "Кількість 70\n",
      "144\n",
      "Кількість 71\n",
      "139\n",
      "Кількість 72\n",
      "182\n",
      "Кількість 73\n",
      "135\n",
      "Кількість 74\n",
      "147\n",
      "Кількість 75\n",
      "152\n",
      "Кількість 76\n",
      "124\n",
      "Кількість 77\n",
      "119\n",
      "Кількість 78\n",
      "105\n",
      "Кількість 79\n",
      "128\n",
      "Кількість 80\n",
      "110\n",
      "Кількість 81\n",
      "96\n",
      "Кількість 82\n",
      "76\n",
      "Кількість 83\n",
      "77\n",
      "Кількість 84\n",
      "69\n",
      "Кількість 85\n",
      "76\n",
      "Кількість 86\n",
      "68\n",
      "Кількість 87\n",
      "60\n",
      "Кількість 88\n",
      "73\n",
      "Кількість 89\n",
      "48\n",
      "Кількість 90\n",
      "62\n",
      "Кількість 91\n",
      "42\n",
      "Кількість 92\n",
      "43\n",
      "Кількість 93\n",
      "39\n",
      "Кількість 94\n",
      "40\n",
      "Кількість 95\n",
      "30\n",
      "Кількість 96\n",
      "35\n",
      "Кількість 97\n",
      "35\n",
      "Кількість 98\n",
      "18\n",
      "Кількість 99\n",
      "17\n",
      "Кількість 100\n",
      "19\n",
      "Кількість 101\n",
      "15\n",
      "Кількість 102\n",
      "19\n",
      "Кількість 103\n",
      "11\n",
      "Кількість 104\n",
      "9\n",
      "Кількість 105\n",
      "17\n",
      "Кількість 106\n",
      "11\n",
      "Кількість 107\n",
      "15\n",
      "Кількість 108\n",
      "13\n",
      "Кількість 109\n",
      "9\n",
      "Кількість 110\n",
      "4\n",
      "Кількість 111\n",
      "5\n",
      "Кількість 112\n",
      "7\n",
      "Кількість 113\n",
      "9\n",
      "Кількість 114\n",
      "1\n",
      "Кількість 115\n",
      "5\n",
      "Кількість 116\n",
      "3\n",
      "Кількість 117\n",
      "3\n",
      "Кількість 118\n",
      "3\n",
      "Кількість 119\n",
      "3\n",
      "Кількість 120\n",
      "1\n",
      "Кількість 122\n",
      "2\n",
      "Кількість 123\n",
      "2\n",
      "Кількість 124\n",
      "2\n",
      "Кількість 125\n",
      "1\n",
      "Кількість 126\n",
      "2\n",
      "Кількість 128\n",
      "2\n",
      "Кількість 129\n",
      "1\n",
      "Кількість 130\n",
      "1\n",
      "Кількість 132\n",
      "1\n",
      "Кількість 134\n",
      "1\n",
      "Кількість 135\n",
      "1\n",
      "Кількість 136\n",
      "1\n",
      "Кількість 137\n",
      "1\n",
      "Кількість 157\n",
      "1\n",
      "Кількість 160\n",
      "1\n",
      "Кількість 163\n",
      "1\n"
     ]
    },
    {
     "data": {
      "image/png": "[encoded data removed]",
      "text/plain": [
       "<Figure size 432x288 with 1 Axes>"
      ]
     },
     "metadata": {
      "needs_background": "light"
     },
     "output_type": "display_data"
    }
   ],
   "source": [
    "n=15\n",
    "p=0.2\n",
    "x = np.arange(-0.5, n*5+1, 0.5)\n",
    "y = nbinom.pmf(x,n, p)\n",
    "plt.stem(x,y)\n",
    "plt.show()\n",
    "y = nbinom.cdf(x,n, p)\n",
    "plt.plot(x, y, drawstyle='steps-post')\n",
    "plt.show()\n",
    "bin_rvs=nbinom.rvs(n, p, loc=0, size=10000, random_state=None)\n",
    "for i in range(max(bin_rvs)+1):\n",
    "    if(sum(bin_rvs==i)!=0):\n",
    "        print(\"Кількість\",i)\n",
    "        print(format(sum(bin_rvs==i)))\n",
    "plt.hist(bin_rvs)\n",
    "plt.show()\n"
   ]
  },
  {
   "cell_type": "code",
   "execution_count": 145,
   "metadata": {},
   "outputs": [
    {
     "data": {
      "image/png": "[encoded data removed]",
      "text/plain": [
       "<Figure size 432x288 with 1 Axes>"
      ]
     },
     "metadata": {
      "needs_background": "light"
     },
     "output_type": "display_data"
    },
    {
     "data": {
      "image/png": "[encoded data removed]",
      "text/plain": [
       "<Figure size 432x288 with 1 Axes>"
      ]
     },
     "metadata": {
      "needs_background": "light"
     },
     "output_type": "display_data"
    },
    {
     "name": "stdout",
     "output_type": "stream",
     "text": [
      "Кількість 8\n",
      "8\n",
      "Кількість 9\n",
      "12\n",
      "Кількість 10\n",
      "12\n",
      "Кількість 11\n",
      "14\n",
      "Кількість 12\n",
      "32\n",
      "Кількість 13\n",
      "32\n",
      "Кількість 14\n",
      "72\n",
      "Кількість 15\n",
      "99\n",
      "Кількість 16\n",
      "127\n",
      "Кількість 17\n",
      "160\n",
      "Кількість 18\n",
      "205\n",
      "Кількість 19\n",
      "231\n",
      "Кількість 20\n",
      "273\n",
      "Кількість 21\n",
      "322\n",
      "Кількість 22\n",
      "327\n",
      "Кількість 23\n",
      "390\n",
      "Кількість 24\n",
      "407\n",
      "Кількість 25\n",
      "431\n",
      "Кількість 26\n",
      "482\n",
      "Кількість 27\n",
      "468\n",
      "Кількість 28\n",
      "470\n",
      "Кількість 29\n",
      "475\n",
      "Кількість 30\n",
      "421\n",
      "Кількість 31\n",
      "477\n",
      "Кількість 32\n",
      "428\n",
      "Кількість 33\n",
      "430\n",
      "Кількість 34\n",
      "370\n",
      "Кількість 35\n",
      "352\n",
      "Кількість 36\n",
      "289\n",
      "Кількість 37\n",
      "298\n",
      "Кількість 38\n",
      "261\n",
      "Кількість 39\n",
      "235\n",
      "Кількість 40\n",
      "208\n",
      "Кількість 41\n",
      "175\n",
      "Кількість 42\n",
      "168\n",
      "Кількість 43\n",
      "144\n",
      "Кількість 44\n",
      "126\n",
      "Кількість 45\n",
      "98\n",
      "Кількість 46\n",
      "86\n",
      "Кількість 47\n",
      "59\n",
      "Кількість 48\n",
      "56\n",
      "Кількість 49\n",
      "42\n",
      "Кількість 50\n",
      "46\n",
      "Кількість 51\n",
      "25\n",
      "Кількість 52\n",
      "32\n",
      "Кількість 53\n",
      "22\n",
      "Кількість 54\n",
      "16\n",
      "Кількість 55\n",
      "13\n",
      "Кількість 56\n",
      "18\n",
      "Кількість 57\n",
      "10\n",
      "Кількість 58\n",
      "18\n",
      "Кількість 59\n",
      "6\n",
      "Кількість 60\n",
      "4\n",
      "Кількість 61\n",
      "7\n",
      "Кількість 62\n",
      "3\n",
      "Кількість 63\n",
      "2\n",
      "Кількість 64\n",
      "2\n",
      "Кількість 66\n",
      "1\n",
      "Кількість 67\n",
      "1\n",
      "Кількість 68\n",
      "1\n",
      "Кількість 71\n",
      "1\n"
     ]
    },
    {
     "data": {
      "image/png": "[encoded data removed]",
      "text/plain": [
       "<Figure size 432x288 with 1 Axes>"
      ]
     },
     "metadata": {
      "needs_background": "light"
     },
     "output_type": "display_data"
    }
   ],
   "source": [
    "n=20\n",
    "p=0.4\n",
    "x = np.arange(-0.5, n*5+1, 0.5)\n",
    "y = nbinom.pmf(x,n, p)\n",
    "plt.stem(x,y)\n",
    "plt.show()\n",
    "y = nbinom.cdf(x,n, p)\n",
    "plt.plot(x, y, drawstyle='steps-post')\n",
    "plt.show()\n",
    "bin_rvs=nbinom.rvs(n, p, loc=0, size=10000, random_state=None)\n",
    "for i in range(max(bin_rvs)+1):\n",
    "    if(sum(bin_rvs==i)!=0):\n",
    "        print(\"Кількість\",i)\n",
    "        print(format(sum(bin_rvs==i)))\n",
    "plt.hist(bin_rvs)\n",
    "plt.show()\n"
   ]
  },
  {
   "cell_type": "code",
   "execution_count": 146,
   "metadata": {},
   "outputs": [
    {
     "data": {
      "image/png": "[encoded data removed]",
      "text/plain": [
       "<Figure size 432x288 with 1 Axes>"
      ]
     },
     "metadata": {
      "needs_background": "light"
     },
     "output_type": "display_data"
    },
    {
     "data": {
      "image/png": "[encoded data removed]",
      "text/plain": [
       "<Figure size 432x288 with 1 Axes>"
      ]
     },
     "metadata": {
      "needs_background": "light"
     },
     "output_type": "display_data"
    },
    {
     "name": "stdout",
     "output_type": "stream",
     "text": [
      "Кількість 2\n",
      "15\n",
      "Кількість 3\n",
      "34\n",
      "Кількість 4\n",
      "58\n",
      "Кількість 5\n",
      "139\n",
      "Кількість 6\n",
      "244\n",
      "Кількість 7\n",
      "397\n",
      "Кількість 8\n",
      "568\n",
      "Кількість 9\n",
      "631\n",
      "Кількість 10\n",
      "722\n",
      "Кількість 11\n",
      "873\n",
      "Кількість 12\n",
      "811\n",
      "Кількість 13\n",
      "861\n",
      "Кількість 14\n",
      "823\n",
      "Кількість 15\n",
      "776\n",
      "Кількість 16\n",
      "626\n",
      "Кількість 17\n",
      "565\n",
      "Кількість 18\n",
      "449\n",
      "Кількість 19\n",
      "347\n",
      "Кількість 20\n",
      "300\n",
      "Кількість 21\n",
      "194\n",
      "Кількість 22\n",
      "165\n",
      "Кількість 23\n",
      "132\n",
      "Кількість 24\n",
      "82\n",
      "Кількість 25\n",
      "64\n",
      "Кількість 26\n",
      "43\n",
      "Кількість 27\n",
      "27\n",
      "Кількість 28\n",
      "19\n",
      "Кількість 29\n",
      "15\n",
      "Кількість 30\n",
      "6\n",
      "Кількість 31\n",
      "5\n",
      "Кількість 32\n",
      "3\n",
      "Кількість 33\n",
      "1\n",
      "Кількість 36\n",
      "3\n",
      "Кількість 37\n",
      "1\n",
      "Кількість 39\n",
      "1\n"
     ]
    },
    {
     "data": {
      "image/png": "[encoded data removed]",
      "text/plain": [
       "<Figure size 432x288 with 1 Axes>"
      ]
     },
     "metadata": {
      "needs_background": "light"
     },
     "output_type": "display_data"
    }
   ],
   "source": [
    "n=20\n",
    "p=0.6\n",
    "x = np.arange(-0.5, n*5+1, 0.5)\n",
    "y = nbinom.pmf(x,n, p)\n",
    "plt.stem(x,y)\n",
    "plt.show()\n",
    "y = nbinom.cdf(x,n, p)\n",
    "plt.plot(x, y, drawstyle='steps-post')\n",
    "plt.show()\n",
    "bin_rvs=nbinom.rvs(n, p, loc=0, size=10000, random_state=None)\n",
    "for i in range(max(bin_rvs)+1):\n",
    "    if(sum(bin_rvs==i)!=0):\n",
    "        print(\"Кількість\",i)\n",
    "        print(format(sum(bin_rvs==i)))\n",
    "plt.hist(bin_rvs)\n",
    "plt.show()\n"
   ]
  },
  {
   "cell_type": "code",
   "execution_count": 147,
   "metadata": {},
   "outputs": [
    {
     "data": {
      "image/png": "[encoded data removed]",
      "text/plain": [
       "<Figure size 432x288 with 1 Axes>"
      ]
     },
     "metadata": {
      "needs_background": "light"
     },
     "output_type": "display_data"
    },
    {
     "data": {
      "image/png": "[encoded data removed]",
      "text/plain": [
       "<Figure size 432x288 with 1 Axes>"
      ]
     },
     "metadata": {
      "needs_background": "light"
     },
     "output_type": "display_data"
    },
    {
     "name": "stdout",
     "output_type": "stream",
     "text": [
      "Кількість 0\n",
      "89\n",
      "Кількість 1\n",
      "257\n",
      "Кількість 2\n",
      "549\n",
      "Кількість 3\n",
      "803\n",
      "Кількість 4\n",
      "1034\n",
      "Кількість 5\n",
      "1126\n",
      "Кількість 6\n",
      "1188\n",
      "Кількість 7\n",
      "1051\n",
      "Кількість 8\n",
      "907\n",
      "Кількість 9\n",
      "751\n",
      "Кількість 10\n",
      "621\n",
      "Кількість 11\n",
      "494\n",
      "Кількість 12\n",
      "331\n",
      "Кількість 13\n",
      "259\n",
      "Кількість 14\n",
      "172\n",
      "Кількість 15\n",
      "116\n",
      "Кількість 16\n",
      "92\n",
      "Кількість 17\n",
      "49\n",
      "Кількість 18\n",
      "47\n",
      "Кількість 19\n",
      "23\n",
      "Кількість 20\n",
      "10\n",
      "Кількість 21\n",
      "14\n",
      "Кількість 22\n",
      "6\n",
      "Кількість 23\n",
      "5\n",
      "Кількість 24\n",
      "2\n",
      "Кількість 25\n",
      "3\n",
      "Кількість 29\n",
      "1\n"
     ]
    },
    {
     "data": {
      "image/png": "[encoded data removed]",
      "text/plain": [
       "<Figure size 432x288 with 1 Axes>"
      ]
     },
     "metadata": {
      "needs_background": "light"
     },
     "output_type": "display_data"
    }
   ],
   "source": [
    "n=7\n",
    "p=0.5\n",
    "x = np.arange(-0.5, n*5+1, 0.5)\n",
    "y = nbinom.pmf(x,n, p)\n",
    "plt.stem(x,y)\n",
    "plt.show()\n",
    "y = nbinom.cdf(x,n, p)\n",
    "plt.plot(x, y, drawstyle='steps-post')\n",
    "plt.show()\n",
    "bin_rvs=nbinom.rvs(n, p, loc=0, size=10000, random_state=None)\n",
    "for i in range(max(bin_rvs)+1):\n",
    "    if(sum(bin_rvs==i)!=0):\n",
    "        print(\"Кількість\",i)\n",
    "        print(format(sum(bin_rvs==i)))\n",
    "plt.hist(bin_rvs)\n",
    "plt.show()\n"
   ]
  },
  {
   "cell_type": "code",
   "execution_count": 148,
   "metadata": {},
   "outputs": [
    {
     "data": {
      "image/png": "[encoded data removed]",
      "text/plain": [
       "<Figure size 432x288 with 1 Axes>"
      ]
     },
     "metadata": {
      "needs_background": "light"
     },
     "output_type": "display_data"
    },
    {
     "data": {
      "image/png": "[encoded data removed]",
      "text/plain": [
       "<Figure size 432x288 with 1 Axes>"
      ]
     },
     "metadata": {
      "needs_background": "light"
     },
     "output_type": "display_data"
    },
    {
     "name": "stdout",
     "output_type": "stream",
     "text": [
      "Кількість 3\n",
      "1\n",
      "Кількість 6\n",
      "1\n",
      "Кількість 7\n",
      "8\n",
      "Кількість 8\n",
      "18\n",
      "Кількість 9\n",
      "20\n",
      "Кількість 10\n",
      "45\n",
      "Кількість 11\n",
      "66\n",
      "Кількість 12\n",
      "106\n",
      "Кількість 13\n",
      "112\n",
      "Кількість 14\n",
      "169\n",
      "Кількість 15\n",
      "212\n",
      "Кількість 16\n",
      "288\n",
      "Кількість 17\n",
      "319\n",
      "Кількість 18\n",
      "409\n",
      "Кількість 19\n",
      "430\n",
      "Кількість 20\n",
      "516\n",
      "Кількість 21\n",
      "518\n",
      "Кількість 22\n",
      "596\n",
      "Кількість 23\n",
      "594\n",
      "Кількість 24\n",
      "595\n",
      "Кількість 25\n",
      "533\n",
      "Кількість 26\n",
      "541\n",
      "Кількість 27\n",
      "476\n",
      "Кількість 28\n",
      "487\n",
      "Кількість 29\n",
      "434\n",
      "Кількість 30\n",
      "381\n",
      "Кількість 31\n",
      "325\n",
      "Кількість 32\n",
      "314\n",
      "Кількість 33\n",
      "255\n",
      "Кількість 34\n",
      "236\n",
      "Кількість 35\n",
      "176\n",
      "Кількість 36\n",
      "169\n",
      "Кількість 37\n",
      "118\n",
      "Кількість 38\n",
      "111\n",
      "Кількість 39\n",
      "83\n",
      "Кількість 40\n",
      "73\n",
      "Кількість 41\n",
      "58\n",
      "Кількість 42\n",
      "44\n",
      "Кількість 43\n",
      "48\n",
      "Кількість 44\n",
      "22\n",
      "Кількість 45\n",
      "26\n",
      "Кількість 46\n",
      "13\n",
      "Кількість 47\n",
      "10\n",
      "Кількість 48\n",
      "6\n",
      "Кількість 49\n",
      "10\n",
      "Кількість 50\n",
      "10\n",
      "Кількість 51\n",
      "4\n",
      "Кількість 52\n",
      "1\n",
      "Кількість 53\n",
      "3\n",
      "Кількість 54\n",
      "2\n",
      "Кількість 55\n",
      "1\n",
      "Кількість 56\n",
      "3\n",
      "Кількість 57\n",
      "1\n",
      "Кількість 58\n",
      "2\n",
      "Кількість 59\n",
      "1\n"
     ]
    },
    {
     "data": {
      "image/png": "[encoded data removed]",
      "text/plain": [
       "<Figure size 432x288 with 1 Axes>"
      ]
     },
     "metadata": {
      "needs_background": "light"
     },
     "output_type": "display_data"
    }
   ],
   "source": [
    "n=25\n",
    "p=0.5\n",
    "x = np.arange(-0.5, n*5+1, 0.5)\n",
    "y = nbinom.pmf(x,n, p)\n",
    "plt.stem(x,y)\n",
    "plt.show()\n",
    "y = nbinom.cdf(x,n, p)\n",
    "plt.plot(x, y, drawstyle='steps-post')\n",
    "plt.show()\n",
    "bin_rvs=nbinom.rvs(n, p, loc=0, size=10000, random_state=None)\n",
    "for i in range(max(bin_rvs)+1):\n",
    "    if(sum(bin_rvs==i)!=0):\n",
    "        print(\"Кількість\",i)\n",
    "        print(format(sum(bin_rvs==i)))\n",
    "plt.hist(bin_rvs)\n",
    "plt.show()\n"
   ]
  },
  {
   "cell_type": "code",
   "execution_count": 149,
   "metadata": {},
   "outputs": [
    {
     "data": {
      "image/png": "[encoded data removed]",
      "text/plain": [
       "<Figure size 432x288 with 1 Axes>"
      ]
     },
     "metadata": {
      "needs_background": "light"
     },
     "output_type": "display_data"
    },
    {
     "data": {
      "image/png": "[encoded data removed]",
      "text/plain": [
       "<Figure size 432x288 with 1 Axes>"
      ]
     },
     "metadata": {
      "needs_background": "light"
     },
     "output_type": "display_data"
    },
    {
     "name": "stdout",
     "output_type": "stream",
     "text": [
      "Кількість 51\n",
      "1\n",
      "Кількість 55\n",
      "1\n",
      "Кількість 58\n",
      "4\n",
      "Кількість 59\n",
      "2\n",
      "Кількість 60\n",
      "5\n",
      "Кількість 61\n",
      "3\n",
      "Кількість 62\n",
      "4\n",
      "Кількість 63\n",
      "6\n",
      "Кількість 64\n",
      "8\n",
      "Кількість 65\n",
      "5\n",
      "Кількість 66\n",
      "10\n",
      "Кількість 67\n",
      "16\n",
      "Кількість 68\n",
      "20\n",
      "Кількість 69\n",
      "24\n",
      "Кількість 70\n",
      "23\n",
      "Кількість 71\n",
      "37\n",
      "Кількість 72\n",
      "43\n",
      "Кількість 73\n",
      "33\n",
      "Кількість 74\n",
      "44\n",
      "Кількість 75\n",
      "75\n",
      "Кількість 76\n",
      "73\n",
      "Кількість 77\n",
      "72\n",
      "Кількість 78\n",
      "76\n",
      "Кількість 79\n",
      "81\n",
      "Кількість 80\n",
      "103\n",
      "Кількість 81\n",
      "136\n",
      "Кількість 82\n",
      "141\n",
      "Кількість 83\n",
      "143\n",
      "Кількість 84\n",
      "162\n",
      "Кількість 85\n",
      "178\n",
      "Кількість 86\n",
      "214\n",
      "Кількість 87\n",
      "201\n",
      "Кількість 88\n",
      "199\n",
      "Кількість 89\n",
      "200\n",
      "Кількість 90\n",
      "223\n",
      "Кількість 91\n",
      "237\n",
      "Кількість 92\n",
      "263\n",
      "Кількість 93\n",
      "268\n",
      "Кількість 94\n",
      "281\n",
      "Кількість 95\n",
      "281\n",
      "Кількість 96\n",
      "267\n",
      "Кількість 97\n",
      "266\n",
      "Кількість 98\n",
      "279\n",
      "Кількість 99\n",
      "286\n",
      "Кількість 100\n",
      "272\n",
      "Кількість 101\n",
      "256\n",
      "Кількість 102\n",
      "278\n",
      "Кількість 103\n",
      "261\n",
      "Кількість 104\n",
      "296\n",
      "Кількість 105\n",
      "239\n",
      "Кількість 106\n",
      "250\n",
      "Кількість 107\n",
      "244\n",
      "Кількість 108\n",
      "221\n",
      "Кількість 109\n",
      "236\n",
      "Кількість 110\n",
      "194\n",
      "Кількість 111\n",
      "215\n",
      "Кількість 112\n",
      "172\n",
      "Кількість 113\n",
      "167\n",
      "Кількість 114\n",
      "170\n",
      "Кількість 115\n",
      "155\n",
      "Кількість 116\n",
      "144\n",
      "Кількість 117\n",
      "151\n",
      "Кількість 118\n",
      "139\n",
      "Кількість 119\n",
      "121\n",
      "Кількість 120\n",
      "92\n",
      "Кількість 121\n",
      "87\n",
      "Кількість 122\n",
      "71\n",
      "Кількість 123\n",
      "61\n",
      "Кількість 124\n",
      "54\n",
      "Кількість 125\n",
      "66\n",
      "Кількість 126\n",
      "46\n",
      "Кількість 127\n",
      "41\n",
      "Кількість 128\n",
      "33\n",
      "Кількість 129\n",
      "36\n",
      "Кількість 130\n",
      "43\n",
      "Кількість 131\n",
      "30\n",
      "Кількість 132\n",
      "24\n",
      "Кількість 133\n",
      "15\n",
      "Кількість 134\n",
      "19\n",
      "Кількість 135\n",
      "17\n",
      "Кількість 136\n",
      "11\n",
      "Кількість 137\n",
      "10\n",
      "Кількість 138\n",
      "9\n",
      "Кількість 139\n",
      "7\n",
      "Кількість 140\n",
      "11\n",
      "Кількість 141\n",
      "8\n",
      "Кількість 142\n",
      "3\n",
      "Кількість 143\n",
      "5\n",
      "Кількість 144\n",
      "4\n",
      "Кількість 145\n",
      "3\n",
      "Кількість 146\n",
      "2\n",
      "Кількість 147\n",
      "1\n",
      "Кількість 148\n",
      "7\n",
      "Кількість 149\n",
      "1\n",
      "Кількість 150\n",
      "4\n",
      "Кількість 151\n",
      "2\n",
      "Кількість 152\n",
      "1\n",
      "Кількість 156\n",
      "1\n"
     ]
    },
    {
     "data": {
      "image/png": "[encoded data removed]",
      "text/plain": [
       "<Figure size 432x288 with 1 Axes>"
      ]
     },
     "metadata": {
      "needs_background": "light"
     },
     "output_type": "display_data"
    }
   ],
   "source": [
    "n=100\n",
    "p=0.5\n",
    "x = np.arange(-0.5, n*5+1, 0.5)\n",
    "y = nbinom.pmf(x,n, p)\n",
    "plt.stem(x,y)\n",
    "plt.show()\n",
    "y = nbinom.cdf(x,n, p)\n",
    "plt.plot(x, y, drawstyle='steps-post')\n",
    "plt.show()\n",
    "bin_rvs=nbinom.rvs(n, p, loc=0, size=10000, random_state=None)\n",
    "for i in range(max(bin_rvs)+1):\n",
    "    if(sum(bin_rvs==i)!=0):\n",
    "        print(\"Кількість\",i)\n",
    "        print(format(sum(bin_rvs==i)))\n",
    "plt.hist(bin_rvs)\n",
    "plt.show()\n"
   ]
  },
  {
   "cell_type": "markdown",
   "metadata": {},
   "source": [
    "### 3.5 Гіпергеометричний розподіл"
   ]
  },
  {
   "cell_type": "markdown",
   "metadata": {},
   "source": [
    "Зобразіть графічно функцію щільності, функцію розподілу та гістограму $10000$ випадкових величин гіпергеометричного розподілу з параметрами:\n",
    "1. $M = 10, n = 3, N = 7$\n",
    "2. $M = 50, n = 10, N = 5$\n",
    "3. $M = 50, n = 10, N = 10$\n",
    "4. $M = 50, n = 10, N = 20$\n",
    "5. $M = 50, n = 10, N = 30$\n",
    "6. $M = 50, n = 10, N = 40$\n",
    "7. $M = 50, n = 10, N = 50$\n",
    "8. $M = 50, n = 5, N = 25$\n",
    "9. $M = 50, n = 15, N = 25$\n",
    "10. $M = 50, n = 25, N = 25$\n",
    "11. $M = 50, n = 35, N = 25$\n",
    "12. $M = 50, n = 45, N = 25$"
   ]
  },
  {
   "cell_type": "code",
   "execution_count": 7,
   "metadata": {},
   "outputs": [
    {
     "data": {
      "image/png": "[encoded data removed]",
      "text/plain": [
       "<Figure size 432x288 with 1 Axes>"
      ]
     },
     "metadata": {
      "needs_background": "light"
     },
     "output_type": "display_data"
    },
    {
     "data": {
      "image/png": "[encoded data removed]",
      "text/plain": [
       "<Figure size 432x288 with 1 Axes>"
      ]
     },
     "metadata": {
      "needs_background": "light"
     },
     "output_type": "display_data"
    },
    {
     "name": "stdout",
     "output_type": "stream",
     "text": [
      "Кількість 0\n",
      "77\n",
      "Кількість 1\n",
      "1790\n",
      "Кількість 2\n",
      "5238\n",
      "Кількість 3\n",
      "2895\n"
     ]
    },
    {
     "data": {
      "image/png": "[encoded data removed]",
      "text/plain": [
       "<Figure size 432x288 with 1 Axes>"
      ]
     },
     "metadata": {
      "needs_background": "light"
     },
     "output_type": "display_data"
    }
   ],
   "source": [
    "# Місце для Вашого коду\n",
    "n=3\n",
    "M=10\n",
    "N=7\n",
    "x = np.arange(max(0, N-M+n)-0.5, min(n, N)+1, 0.5) \n",
    "y=hypergeom.pmf(x, M, n, N)\n",
    "plt.stem(x,y)\n",
    "plt.show()\n",
    "y = hypergeom.cdf(x,M,n, N)\n",
    "plt.plot(x, y, drawstyle='steps-post')\n",
    "plt.show()\n",
    "hyp_rvs=hypergeom.rvs(M,n, N, loc=0, size=10000, random_state=None)\n",
    "for i in range(max(hyp_rvs)+1):\n",
    "    if(sum(hyp_rvs==i)!=0):\n",
    "        print(\"Кількість\",i)\n",
    "        print(format(sum(hyp_rvs==i)))\n",
    "plt.hist(hyp_rvs)\n",
    "plt.show()"
   ]
  },
  {
   "cell_type": "code",
   "execution_count": 8,
   "metadata": {},
   "outputs": [
    {
     "data": {
      "image/png": "[encoded data removed]",
      "text/plain": [
       "<Figure size 432x288 with 1 Axes>"
      ]
     },
     "metadata": {
      "needs_background": "light"
     },
     "output_type": "display_data"
    },
    {
     "data": {
      "image/png": "[encoded data removed]",
      "text/plain": [
       "<Figure size 432x288 with 1 Axes>"
      ]
     },
     "metadata": {
      "needs_background": "light"
     },
     "output_type": "display_data"
    },
    {
     "name": "stdout",
     "output_type": "stream",
     "text": [
      "Кількість 0\n",
      "3099\n",
      "Кількість 1\n",
      "4284\n",
      "Кількість 2\n",
      "2079\n",
      "Кількість 3\n",
      "496\n",
      "Кількість 4\n",
      "42\n"
     ]
    },
    {
     "data": {
      "image/png": "[encoded data removed]",
      "text/plain": [
       "<Figure size 432x288 with 1 Axes>"
      ]
     },
     "metadata": {
      "needs_background": "light"
     },
     "output_type": "display_data"
    }
   ],
   "source": [
    "\n",
    "n=10\n",
    "M=50\n",
    "N=5\n",
    "x = np.arange(max(0, N-M+n)-0.5, min(n, N)+1, 0.5) \n",
    "y=hypergeom.pmf(x, M, n, N)\n",
    "plt.stem(x,y)\n",
    "plt.show()\n",
    "y = hypergeom.cdf(x,M,n, N)\n",
    "plt.plot(x, y, drawstyle='steps-post')\n",
    "plt.show()\n",
    "hyp_rvs=hypergeom.rvs(M,n, N, loc=0, size=10000, random_state=None)\n",
    "for i in range(max(hyp_rvs)+1):\n",
    "    if(sum(hyp_rvs==i)!=0):\n",
    "        print(\"Кількість\",i)\n",
    "        print(format(sum(hyp_rvs==i)))\n",
    "plt.hist(hyp_rvs)\n",
    "plt.show()"
   ]
  },
  {
   "cell_type": "code",
   "execution_count": 9,
   "metadata": {},
   "outputs": [
    {
     "data": {
      "image/png": "[encoded data removed]",
      "text/plain": [
       "<Figure size 432x288 with 1 Axes>"
      ]
     },
     "metadata": {
      "needs_background": "light"
     },
     "output_type": "display_data"
    },
    {
     "data": {
      "image/png": "[encoded data removed]",
      "text/plain": [
       "<Figure size 432x288 with 1 Axes>"
      ]
     },
     "metadata": {
      "needs_background": "light"
     },
     "output_type": "display_data"
    },
    {
     "name": "stdout",
     "output_type": "stream",
     "text": [
      "Кількість 0\n",
      "851\n",
      "Кількість 1\n",
      "2657\n",
      "Кількість 2\n",
      "3376\n",
      "Кількість 3\n",
      "2174\n",
      "Кількість 4\n",
      "763\n",
      "Кількість 5\n",
      "161\n",
      "Кількість 6\n",
      "17\n",
      "Кількість 7\n",
      "1\n"
     ]
    },
    {
     "data": {
      "image/png": "[encoded data removed]",
      "text/plain": [
       "<Figure size 432x288 with 1 Axes>"
      ]
     },
     "metadata": {
      "needs_background": "light"
     },
     "output_type": "display_data"
    }
   ],
   "source": [
    "\n",
    "n=10\n",
    "M=50\n",
    "N=10\n",
    "x = np.arange(max(0, N-M+n)-0.5, min(n, N)+1, 0.5) \n",
    "y=hypergeom.pmf(x, M, n, N)\n",
    "plt.stem(x,y)\n",
    "plt.show()\n",
    "y = hypergeom.cdf(x,M,n, N)\n",
    "plt.plot(x, y, drawstyle='steps-post')\n",
    "plt.show()\n",
    "hyp_rvs=hypergeom.rvs(M,n, N, loc=0, size=10000, random_state=None)\n",
    "for i in range(max(hyp_rvs)+1):\n",
    "    if(sum(hyp_rvs==i)!=0):\n",
    "        print(\"Кількість\",i)\n",
    "        print(format(sum(hyp_rvs==i)))\n",
    "plt.hist(hyp_rvs)\n",
    "plt.show()"
   ]
  },
  {
   "cell_type": "code",
   "execution_count": 10,
   "metadata": {},
   "outputs": [
    {
     "data": {
      "image/png": "[encoded data removed]",
      "text/plain": [
       "<Figure size 432x288 with 1 Axes>"
      ]
     },
     "metadata": {
      "needs_background": "light"
     },
     "output_type": "display_data"
    },
    {
     "data": {
      "image/png": "[encoded data removed]",
      "text/plain": [
       "<Figure size 432x288 with 1 Axes>"
      ]
     },
     "metadata": {
      "needs_background": "light"
     },
     "output_type": "display_data"
    },
    {
     "name": "stdout",
     "output_type": "stream",
     "text": [
      "Кількість 0\n",
      "30\n",
      "Кількість 1\n",
      "269\n",
      "Кількість 2\n",
      "1068\n",
      "Кількість 3\n",
      "2343\n",
      "Кількість 4\n",
      "2777\n",
      "Кількість 5\n",
      "2105\n",
      "Кількість 6\n",
      "1014\n",
      "Кількість 7\n",
      "330\n",
      "Кількість 8\n",
      "58\n",
      "Кількість 9\n",
      "6\n"
     ]
    },
    {
     "data": {
      "image/png": "[encoded data removed]",
      "text/plain": [
       "<Figure size 432x288 with 1 Axes>"
      ]
     },
     "metadata": {
      "needs_background": "light"
     },
     "output_type": "display_data"
    }
   ],
   "source": [
    "\n",
    "n=10\n",
    "M=50\n",
    "N=20\n",
    "x = np.arange(max(0, N-M+n)-0.5, min(n, N)+1, 0.5) \n",
    "y=hypergeom.pmf(x, M, n, N)\n",
    "plt.stem(x,y)\n",
    "plt.show()\n",
    "y = hypergeom.cdf(x,M,n, N)\n",
    "plt.plot(x, y, drawstyle='steps-post')\n",
    "plt.show()\n",
    "hyp_rvs=hypergeom.rvs(M,n, N, loc=0, size=10000, random_state=None)\n",
    "for i in range(max(hyp_rvs)+1):\n",
    "    if(sum(hyp_rvs==i)!=0):\n",
    "        print(\"Кількість\",i)\n",
    "        print(format(sum(hyp_rvs==i)))\n",
    "plt.hist(hyp_rvs)\n",
    "plt.show()"
   ]
  },
  {
   "cell_type": "code",
   "execution_count": 11,
   "metadata": {},
   "outputs": [
    {
     "data": {
      "image/png": "[encoded data removed]",
      "text/plain": [
       "<Figure size 432x288 with 1 Axes>"
      ]
     },
     "metadata": {
      "needs_background": "light"
     },
     "output_type": "display_data"
    },
    {
     "data": {
      "image/png": "[encoded data removed]",
      "text/plain": [
       "<Figure size 432x288 with 1 Axes>"
      ]
     },
     "metadata": {
      "needs_background": "light"
     },
     "output_type": "display_data"
    },
    {
     "name": "stdout",
     "output_type": "stream",
     "text": [
      "Кількість 1\n",
      "1\n",
      "Кількість 2\n",
      "40\n",
      "Кількість 3\n",
      "285\n",
      "Кількість 4\n",
      "1045\n",
      "Кількість 5\n",
      "2168\n",
      "Кількість 6\n",
      "2786\n",
      "Кількість 7\n",
      "2273\n",
      "Кількість 8\n",
      "1106\n",
      "Кількість 9\n",
      "259\n",
      "Кількість 10\n",
      "37\n"
     ]
    },
    {
     "data": {
      "image/png": "[encoded data removed]",
      "text/plain": [
       "<Figure size 432x288 with 1 Axes>"
      ]
     },
     "metadata": {
      "needs_background": "light"
     },
     "output_type": "display_data"
    }
   ],
   "source": [
    "n=10\n",
    "M=50\n",
    "N=30\n",
    "x = np.arange(max(0, N-M+n)-0.5, min(n, N)+1, 0.5) \n",
    "y=hypergeom.pmf(x, M, n, N)\n",
    "plt.stem(x,y)\n",
    "plt.show()\n",
    "y = hypergeom.cdf(x,M,n, N)\n",
    "plt.plot(x, y, drawstyle='steps-post')\n",
    "plt.show()\n",
    "hyp_rvs=hypergeom.rvs(M,n, N, loc=0, size=10000, random_state=None)\n",
    "for i in range(max(hyp_rvs)+1):\n",
    "    if(sum(hyp_rvs==i)!=0):\n",
    "        print(\"Кількість\",i)\n",
    "        print(format(sum(hyp_rvs==i)))\n",
    "plt.hist(hyp_rvs)\n",
    "plt.show()"
   ]
  },
  {
   "cell_type": "code",
   "execution_count": 12,
   "metadata": {},
   "outputs": [
    {
     "data": {
      "image/png": "[encoded data removed]",
      "text/plain": [
       "<Figure size 432x288 with 1 Axes>"
      ]
     },
     "metadata": {
      "needs_background": "light"
     },
     "output_type": "display_data"
    },
    {
     "data": {
      "image/png": "[encoded data removed]",
      "text/plain": [
       "<Figure size 432x288 with 1 Axes>"
      ]
     },
     "metadata": {
      "needs_background": "light"
     },
     "output_type": "display_data"
    },
    {
     "name": "stdout",
     "output_type": "stream",
     "text": [
      "Кількість 3\n",
      "3\n",
      "Кількість 4\n",
      "20\n",
      "Кількість 5\n",
      "169\n",
      "Кількість 6\n",
      "732\n",
      "Кількість 7\n",
      "2258\n",
      "Кількість 8\n",
      "3376\n",
      "Кількість 9\n",
      "2620\n",
      "Кількість 10\n",
      "822\n"
     ]
    },
    {
     "data": {
      "image/png": "[encoded data removed]",
      "text/plain": [
       "<Figure size 432x288 with 1 Axes>"
      ]
     },
     "metadata": {
      "needs_background": "light"
     },
     "output_type": "display_data"
    }
   ],
   "source": [
    "\n",
    "n=10\n",
    "M=50\n",
    "N=40\n",
    "x = np.arange(max(0, N-M+n)-0.5, min(n, N)+1, 0.5) \n",
    "y=hypergeom.pmf(x, M, n, N)\n",
    "plt.stem(x,y)\n",
    "plt.show()\n",
    "y = hypergeom.cdf(x,M,n, N)\n",
    "plt.plot(x, y, drawstyle='steps-post')\n",
    "plt.show()\n",
    "hyp_rvs=hypergeom.rvs(M,n, N, loc=0, size=10000, random_state=None)\n",
    "for i in range(max(hyp_rvs)+1):\n",
    "    if(sum(hyp_rvs==i)!=0):\n",
    "        print(\"Кількість\",i)\n",
    "        print(format(sum(hyp_rvs==i)))\n",
    "plt.hist(hyp_rvs)\n",
    "plt.show()"
   ]
  },
  {
   "cell_type": "code",
   "execution_count": 13,
   "metadata": {},
   "outputs": [
    {
     "data": {
      "image/png": "[encoded data removed]",
      "text/plain": [
       "<Figure size 432x288 with 1 Axes>"
      ]
     },
     "metadata": {
      "needs_background": "light"
     },
     "output_type": "display_data"
    },
    {
     "data": {
      "image/png": "[encoded data removed]",
      "text/plain": [
       "<Figure size 432x288 with 1 Axes>"
      ]
     },
     "metadata": {
      "needs_background": "light"
     },
     "output_type": "display_data"
    },
    {
     "name": "stdout",
     "output_type": "stream",
     "text": [
      "Кількість 10\n",
      "10000\n"
     ]
    },
    {
     "data": {
      "image/png": "[encoded data removed]",
      "text/plain": [
       "<Figure size 432x288 with 1 Axes>"
      ]
     },
     "metadata": {
      "needs_background": "light"
     },
     "output_type": "display_data"
    }
   ],
   "source": [
    "n=10\n",
    "M=50\n",
    "N=50\n",
    "x = np.arange(max(0, N-M+n)-0.5, min(n, N)+1, 0.5) \n",
    "y=hypergeom.pmf(x, M, n, N)\n",
    "plt.stem(x,y)\n",
    "plt.show()\n",
    "y = hypergeom.cdf(x,M,n, N)\n",
    "plt.plot(x, y, drawstyle='steps-post')\n",
    "plt.show()\n",
    "hyp_rvs=hypergeom.rvs(M,n, N, loc=0, size=10000, random_state=None)\n",
    "for i in range(max(hyp_rvs)+1):\n",
    "    if(sum(hyp_rvs==i)!=0):\n",
    "        print(\"Кількість\",i)\n",
    "        print(format(sum(hyp_rvs==i)))\n",
    "plt.hist(hyp_rvs)\n",
    "plt.show()"
   ]
  },
  {
   "cell_type": "code",
   "execution_count": 14,
   "metadata": {},
   "outputs": [
    {
     "data": {
      "image/png": "[encoded data removed]",
      "text/plain": [
       "<Figure size 432x288 with 1 Axes>"
      ]
     },
     "metadata": {
      "needs_background": "light"
     },
     "output_type": "display_data"
    },
    {
     "data": {
      "image/png": "[encoded data removed]",
      "text/plain": [
       "<Figure size 432x288 with 1 Axes>"
      ]
     },
     "metadata": {
      "needs_background": "light"
     },
     "output_type": "display_data"
    },
    {
     "name": "stdout",
     "output_type": "stream",
     "text": [
      "Кількість 0\n",
      "245\n",
      "Кількість 1\n",
      "1549\n",
      "Кількість 2\n",
      "3162\n",
      "Кількість 3\n",
      "3245\n",
      "Кількість 4\n",
      "1552\n",
      "Кількість 5\n",
      "247\n"
     ]
    },
    {
     "data": {
      "image/png": "[encoded data removed]",
      "text/plain": [
       "<Figure size 432x288 with 1 Axes>"
      ]
     },
     "metadata": {
      "needs_background": "light"
     },
     "output_type": "display_data"
    }
   ],
   "source": [
    "n=5\n",
    "M=50\n",
    "N=25\n",
    "x = np.arange(max(0, N-M+n)-0.5, min(n, N)+1, 0.5) \n",
    "y=hypergeom.pmf(x, M, n, N)\n",
    "plt.stem(x,y)\n",
    "plt.show()\n",
    "y = hypergeom.cdf(x,M,n, N)\n",
    "plt.plot(x, y, drawstyle='steps-post')\n",
    "plt.show()\n",
    "hyp_rvs=hypergeom.rvs(M,n, N, loc=0, size=10000, random_state=None)\n",
    "for i in range(max(hyp_rvs)+1):\n",
    "    if(sum(hyp_rvs==i)!=0):\n",
    "        print(\"Кількість\",i)\n",
    "        print(format(sum(hyp_rvs==i)))\n",
    "plt.hist(hyp_rvs)\n",
    "plt.show()"
   ]
  },
  {
   "cell_type": "code",
   "execution_count": 15,
   "metadata": {},
   "outputs": [
    {
     "data": {
      "image/png": "[encoded data removed]",
      "text/plain": [
       "<Figure size 432x288 with 1 Axes>"
      ]
     },
     "metadata": {
      "needs_background": "light"
     },
     "output_type": "display_data"
    },
    {
     "data": {
      "image/png": "[encoded data removed]",
      "text/plain": [
       "<Figure size 432x288 with 1 Axes>"
      ]
     },
     "metadata": {
      "needs_background": "light"
     },
     "output_type": "display_data"
    },
    {
     "name": "stdout",
     "output_type": "stream",
     "text": [
      "Кількість 2\n",
      "11\n",
      "Кількість 3\n",
      "52\n",
      "Кількість 4\n",
      "244\n",
      "Кількість 5\n",
      "762\n",
      "Кількість 6\n",
      "1574\n",
      "Кількість 7\n",
      "2293\n",
      "Кількість 8\n",
      "2372\n",
      "Кількість 9\n",
      "1614\n",
      "Кількість 10\n",
      "787\n",
      "Кількість 11\n",
      "233\n",
      "Кількість 12\n",
      "47\n",
      "Кількість 13\n",
      "11\n"
     ]
    },
    {
     "data": {
      "image/png": "[encoded data removed]",
      "text/plain": [
       "<Figure size 432x288 with 1 Axes>"
      ]
     },
     "metadata": {
      "needs_background": "light"
     },
     "output_type": "display_data"
    }
   ],
   "source": [
    "n=15\n",
    "M=50\n",
    "N=25\n",
    "x = np.arange(max(0, N-M+n)-0.5, min(n, N)+1, 0.5) \n",
    "y=hypergeom.pmf(x, M, n, N)\n",
    "plt.stem(x,y)\n",
    "plt.show()\n",
    "y = hypergeom.cdf(x,M,n, N)\n",
    "plt.plot(x, y, drawstyle='steps-post')\n",
    "plt.show()\n",
    "hyp_rvs=hypergeom.rvs(M,n, N, loc=0, size=10000, random_state=None)\n",
    "for i in range(max(hyp_rvs)+1):\n",
    "    if(sum(hyp_rvs==i)!=0):\n",
    "        print(\"Кількість\",i)\n",
    "        print(format(sum(hyp_rvs==i)))\n",
    "plt.hist(hyp_rvs)\n",
    "plt.show()"
   ]
  },
  {
   "cell_type": "code",
   "execution_count": 16,
   "metadata": {},
   "outputs": [
    {
     "data": {
      "image/png": "[encoded data removed]",
      "text/plain": [
       "<Figure size 432x288 with 1 Axes>"
      ]
     },
     "metadata": {
      "needs_background": "light"
     },
     "output_type": "display_data"
    },
    {
     "data": {
      "image/png": "[encoded data removed]",
      "text/plain": [
       "<Figure size 432x288 with 1 Axes>"
      ]
     },
     "metadata": {
      "needs_background": "light"
     },
     "output_type": "display_data"
    },
    {
     "name": "stdout",
     "output_type": "stream",
     "text": [
      "Кількість 5\n",
      "1\n",
      "Кількість 7\n",
      "16\n",
      "Кількість 8\n",
      "92\n",
      "Кількість 9\n",
      "322\n",
      "Кількість 10\n",
      "851\n",
      "Кількість 11\n",
      "1582\n",
      "Кількість 12\n",
      "2095\n",
      "Кількість 13\n",
      "2185\n",
      "Кількість 14\n",
      "1582\n",
      "Кількість 15\n",
      "816\n",
      "Кількість 16\n",
      "349\n",
      "Кількість 17\n",
      "92\n",
      "Кількість 18\n",
      "14\n",
      "Кількість 19\n",
      "1\n",
      "Кількість 20\n",
      "2\n"
     ]
    },
    {
     "data": {
      "image/png": "[encoded data removed]",
      "text/plain": [
       "<Figure size 432x288 with 1 Axes>"
      ]
     },
     "metadata": {
      "needs_background": "light"
     },
     "output_type": "display_data"
    }
   ],
   "source": [
    "n=25\n",
    "M=50\n",
    "N=25\n",
    "x = np.arange(max(0, N-M+n)-0.5, min(n, N)+1, 0.5) \n",
    "y=hypergeom.pmf(x, M, n, N)\n",
    "plt.stem(x,y)\n",
    "plt.show()\n",
    "y = hypergeom.cdf(x,M,n, N)\n",
    "plt.plot(x, y, drawstyle='steps-post')\n",
    "plt.show()\n",
    "hyp_rvs=hypergeom.rvs(M,n, N, loc=0, size=10000, random_state=None)\n",
    "for i in range(max(hyp_rvs)+1):\n",
    "    if(sum(hyp_rvs==i)!=0):\n",
    "        print(\"Кількість\",i)\n",
    "        print(format(sum(hyp_rvs==i)))\n",
    "plt.hist(hyp_rvs)\n",
    "plt.show()"
   ]
  },
  {
   "cell_type": "code",
   "execution_count": 17,
   "metadata": {},
   "outputs": [
    {
     "data": {
      "image/png": "[encoded data removed]",
      "text/plain": [
       "<Figure size 432x288 with 1 Axes>"
      ]
     },
     "metadata": {
      "needs_background": "light"
     },
     "output_type": "display_data"
    },
    {
     "data": {
      "image/png": "[encoded data removed]",
      "text/plain": [
       "<Figure size 432x288 with 1 Axes>"
      ]
     },
     "metadata": {
      "needs_background": "light"
     },
     "output_type": "display_data"
    },
    {
     "name": "stdout",
     "output_type": "stream",
     "text": [
      "Кількість 12\n",
      "4\n",
      "Кількість 13\n",
      "41\n",
      "Кількість 14\n",
      "248\n",
      "Кількість 15\n",
      "819\n",
      "Кількість 16\n",
      "1655\n",
      "Кількість 17\n",
      "2273\n",
      "Кількість 18\n",
      "2291\n",
      "Кількість 19\n",
      "1574\n",
      "Кількість 20\n",
      "783\n",
      "Кількість 21\n",
      "266\n",
      "Кількість 22\n",
      "40\n",
      "Кількість 23\n",
      "5\n",
      "Кількість 24\n",
      "1\n"
     ]
    },
    {
     "data": {
      "image/png": "[encoded data removed]",
      "text/plain": [
       "<Figure size 432x288 with 1 Axes>"
      ]
     },
     "metadata": {
      "needs_background": "light"
     },
     "output_type": "display_data"
    }
   ],
   "source": [
    "n=35\n",
    "M=50\n",
    "N=25\n",
    "x = np.arange(max(0, N-M+n)-0.5, min(n, N)+1, 0.5) \n",
    "y=hypergeom.pmf(x, M, n, N)\n",
    "plt.stem(x,y)\n",
    "plt.show()\n",
    "y = hypergeom.cdf(x,M,n, N)\n",
    "plt.plot(x, y, drawstyle='steps-post')\n",
    "plt.show()\n",
    "hyp_rvs=hypergeom.rvs(M,n, N, loc=0, size=10000, random_state=None)\n",
    "for i in range(max(hyp_rvs)+1):\n",
    "    if(sum(hyp_rvs==i)!=0):\n",
    "        print(\"Кількість\",i)\n",
    "        print(format(sum(hyp_rvs==i)))\n",
    "plt.hist(hyp_rvs)\n",
    "plt.show()"
   ]
  },
  {
   "cell_type": "code",
   "execution_count": 18,
   "metadata": {},
   "outputs": [
    {
     "data": {
      "image/png": "[encoded data removed]",
      "text/plain": [
       "<Figure size 432x288 with 1 Axes>"
      ]
     },
     "metadata": {
      "needs_background": "light"
     },
     "output_type": "display_data"
    },
    {
     "data": {
      "image/png": "[encoded data removed]",
      "text/plain": [
       "<Figure size 432x288 with 1 Axes>"
      ]
     },
     "metadata": {
      "needs_background": "light"
     },
     "output_type": "display_data"
    },
    {
     "name": "stdout",
     "output_type": "stream",
     "text": [
      "Кількість 20\n",
      "241\n",
      "Кількість 21\n",
      "1490\n",
      "Кількість 22\n",
      "3339\n",
      "Кількість 23\n",
      "3237\n",
      "Кількість 24\n",
      "1435\n",
      "Кількість 25\n",
      "258\n"
     ]
    },
    {
     "data": {
      "image/png": "[encoded data removed]",
      "text/plain": [
       "<Figure size 432x288 with 1 Axes>"
      ]
     },
     "metadata": {
      "needs_background": "light"
     },
     "output_type": "display_data"
    }
   ],
   "source": [
    "n=45\n",
    "M=50\n",
    "N=25\n",
    "x = np.arange(max(0, N-M+n)-0.5, min(n, N)+1, 0.5) \n",
    "y=hypergeom.pmf(x, M, n, N)\n",
    "plt.stem(x,y)\n",
    "plt.show()\n",
    "y = hypergeom.cdf(x,M,n, N)\n",
    "plt.plot(x, y, drawstyle='steps-post')\n",
    "plt.show()\n",
    "hyp_rvs=hypergeom.rvs(M,n, N, loc=0, size=10000, random_state=None)\n",
    "for i in range(max(hyp_rvs)+1):\n",
    "    if(sum(hyp_rvs==i)!=0):\n",
    "        print(\"Кількість\",i)\n",
    "        print(format(sum(hyp_rvs==i)))\n",
    "plt.hist(hyp_rvs)\n",
    "plt.show()"
   ]
  },
  {
   "cell_type": "code",
   "execution_count": null,
   "metadata": {},
   "outputs": [],
   "source": []
  },
  {
   "cell_type": "markdown",
   "metadata": {
    "collapsed": true
   },
   "source": [
    "## 4 Апроксимація біноміального розподілу розподілом Пуассона"
   ]
  },
  {
   "cell_type": "markdown",
   "metadata": {},
   "source": [
    "Покажіть схожість біноміального розподілу та розподілу Пуассона (їх функцій щільності) з відповідними параметрами.\n",
    "Наприклад:\n",
    "- $n = 100, p = 0.05$\n",
    "- $n = 100, p = 0.1$\n",
    "- $n = 100, p = 0.15$\n",
    "- $n = 100, p = 0.2$\n",
    "- $n = 100, p = 0.35$\n",
    "- $n = 100, p = 0.5$\n",
    "- $n = 100, p = 0.75$"
   ]
  },
  {
   "cell_type": "code",
   "execution_count": 43,
   "metadata": {},
   "outputs": [
    {
     "data": {
      "image/png": "[encoded data removed]",
      "text/plain": [
       "<Figure size 432x288 with 1 Axes>"
      ]
     },
     "metadata": {
      "needs_background": "light"
     },
     "output_type": "display_data"
    },
    {
     "data": {
      "image/png": "[encoded data removed]",
      "text/plain": [
       "<Figure size 432x288 with 1 Axes>"
      ]
     },
     "metadata": {
      "needs_background": "light"
     },
     "output_type": "display_data"
    }
   ],
   "source": [
    "from scipy.stats import binom\n",
    "import matplotlib.pyplot as plt\n",
    "n=100\n",
    "p=0.05\n",
    "x=np.arange(-0.5,n+1,0.5)\n",
    "y=binom.pmf(x,n,p)\n",
    "plt.stem(x,y)\n",
    "plt.show()\n",
    "from scipy.stats import poisson\n",
    "mu=n*p\n",
    "x=np.arange(-0.5,n+1,0.5)\n",
    "y=poisson.pmf(x,mu)\n",
    "plt.stem(x,y)\n",
    "plt.show()\n"
   ]
  },
  {
   "cell_type": "code",
   "execution_count": 45,
   "metadata": {},
   "outputs": [
    {
     "data": {
      "image/png": "[encoded data removed]",
      "text/plain": [
       "<Figure size 432x288 with 1 Axes>"
      ]
     },
     "metadata": {
      "needs_background": "light"
     },
     "output_type": "display_data"
    },
    {
     "data": {
      "image/png": "[encoded data removed]",
      "text/plain": [
       "<Figure size 432x288 with 1 Axes>"
      ]
     },
     "metadata": {
      "needs_background": "light"
     },
     "output_type": "display_data"
    }
   ],
   "source": [
    "\n",
    "# Місце для Ваокоду\n",
    "from scipy.stats import binom\n",
    "import matplotlib.pyplot as plt\n",
    "n=100\n",
    "p=0.1\n",
    "x=np.arange(-0.5,n+1,0.5)\n",
    "y=binom.pmf(x,n,p)\n",
    "plt.stem(x,y)\n",
    "plt.show()\n",
    "from scipy.stats import poisson\n",
    "mu=n*p\n",
    "x=np.arange(-0.5,n+1,0.5)\n",
    "y=poisson.pmf(x,mu)\n",
    "plt.stem(x,y)\n",
    "plt.show()"
   ]
  },
  {
   "cell_type": "code",
   "execution_count": null,
   "metadata": {},
   "outputs": [],
   "source": []
  },
  {
   "cell_type": "code",
   "execution_count": 46,
   "metadata": {},
   "outputs": [
    {
     "data": {
      "image/png": "[encoded data removed]",
      "text/plain": [
       "<Figure size 432x288 with 1 Axes>"
      ]
     },
     "metadata": {
      "needs_background": "light"
     },
     "output_type": "display_data"
    },
    {
     "data": {
      "image/png": "[encoded data removed]",
      "text/plain": [
       "<Figure size 432x288 with 1 Axes>"
      ]
     },
     "metadata": {
      "needs_background": "light"
     },
     "output_type": "display_data"
    }
   ],
   "source": [
    "from scipy.stats import binom\n",
    "import matplotlib.pyplot as plt\n",
    "n=100\n",
    "p=0.25\n",
    "x=np.arange(-0.5,n+1,0.5)\n",
    "y=binom.pmf(x,n,p)\n",
    "plt.stem(x,y)\n",
    "plt.show()\n",
    "from scipy.stats import poisson\n",
    "mu=n*p\n",
    "x=np.arange(-0.5,n+1,0.5)\n",
    "y=poisson.pmf(x,mu)\n",
    "plt.stem(x,y)\n",
    "plt.show()"
   ]
  },
  {
   "cell_type": "code",
   "execution_count": 47,
   "metadata": {},
   "outputs": [
    {
     "data": {
      "image/png": "[encoded data removed]",
      "text/plain": [
       "<Figure size 432x288 with 1 Axes>"
      ]
     },
     "metadata": {
      "needs_background": "light"
     },
     "output_type": "display_data"
    },
    {
     "data": {
      "image/png": "[encoded data removed]",
      "text/plain": [
       "<Figure size 432x288 with 1 Axes>"
      ]
     },
     "metadata": {
      "needs_background": "light"
     },
     "output_type": "display_data"
    }
   ],
   "source": [
    "from scipy.stats import binom\n",
    "import matplotlib.pyplot as plt\n",
    "n=100\n",
    "p=0.5\n",
    "x=np.arange(-0.5,n+1,0.5)\n",
    "y=binom.pmf(x,n,p)\n",
    "plt.stem(x,y)\n",
    "plt.show()\n",
    "from scipy.stats import poisson\n",
    "mu=n*p\n",
    "x=np.arange(-0.5,n+1,0.5)\n",
    "y=poisson.pmf(x,mu)\n",
    "plt.stem(x,y)\n",
    "plt.show()"
   ]
  },
  {
   "cell_type": "code",
   "execution_count": 48,
   "metadata": {},
   "outputs": [
    {
     "data": {
      "image/png": "[encoded data removed]",
      "text/plain": [
       "<Figure size 432x288 with 1 Axes>"
      ]
     },
     "metadata": {
      "needs_background": "light"
     },
     "output_type": "display_data"
    },
    {
     "data": {
      "image/png": "[encoded data removed]",
      "text/plain": [
       "<Figure size 432x288 with 1 Axes>"
      ]
     },
     "metadata": {
      "needs_background": "light"
     },
     "output_type": "display_data"
    }
   ],
   "source": [
    "from scipy.stats import binom\n",
    "import matplotlib.pyplot as plt\n",
    "n=100\n",
    "p=0.5\n",
    "x=np.arange(-0.5,n+1,0.5)\n",
    "y=binom.pmf(x,n,p)\n",
    "plt.stem(x,y)\n",
    "plt.show()\n",
    "from scipy.stats import poisson\n",
    "mu=n*p\n",
    "x=np.arange(-0.5,n+1,0.5)\n",
    "y=poisson.pmf(x,mu)\n",
    "plt.stem(x,y)\n",
    "plt.show()"
   ]
  },
  {
   "cell_type": "code",
   "execution_count": 49,
   "metadata": {},
   "outputs": [
    {
     "data": {
      "image/png": "[encoded data removed]",
      "text/plain": [
       "<Figure size 432x288 with 1 Axes>"
      ]
     },
     "metadata": {
      "needs_background": "light"
     },
     "output_type": "display_data"
    },
    {
     "data": {
      "image/png": "[encoded data removed]",
      "text/plain": [
       "<Figure size 432x288 with 1 Axes>"
      ]
     },
     "metadata": {
      "needs_background": "light"
     },
     "output_type": "display_data"
    }
   ],
   "source": [
    "from scipy.stats import binom\n",
    "import matplotlib.pyplot as plt\n",
    "n=100\n",
    "p=0.75\n",
    "x=np.arange(-0.5,n+1,0.5)\n",
    "y=binom.pmf(x,n,p)\n",
    "plt.stem(x,y)\n",
    "plt.show()\n",
    "from scipy.stats import poisson\n",
    "mu=n*p\n",
    "x=np.arange(-0.5,n+1,0.5)\n",
    "y=poisson.pmf(x,mu)\n",
    "plt.stem(x,y)\n",
    "plt.show()"
   ]
  },
  {
   "cell_type": "code",
   "execution_count": null,
   "metadata": {},
   "outputs": [],
   "source": []
  },
  {
   "cell_type": "code",
   "execution_count": null,
   "metadata": {},
   "outputs": [],
   "source": []
  }
 ],
 "metadata": {
  "kernelspec": {
   "display_name": "Python 3",
   "language": "python",
   "name": "python3"
  },
  "language_info": {
   "codemirror_mode": {
    "name": "ipython",
    "version": 3
   },
   "file_extension": ".py",
   "mimetype": "text/x-python",
   "name": "python",
   "nbconvert_exporter": "python",
   "pygments_lexer": "ipython3",
   "version": "3.7.1"
  }
 },
 "nbformat": 4,
 "nbformat_minor": 1
}
