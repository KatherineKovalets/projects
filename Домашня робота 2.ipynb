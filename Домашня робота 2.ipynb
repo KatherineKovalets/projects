{
 "cells": [
  {
   "cell_type": "markdown",
   "metadata": {},
   "source": [
    "# Домашня робота №2"
   ]
  },
  {
   "cell_type": "markdown",
   "metadata": {},
   "source": [
    "## 1 Пароль\n",
    "Напишіть програму (функцію) для генерування випадкового пароля з такими обмеженнями:\n",
    "- пароль складається з рівно $10$ символів\n",
    "- пароль містить хоча б одну маленьку латинську літеру [a-z]\n",
    "- пароль містить хоча б одну велику латинську літеру [A-Z]\n",
    "- пароль містить хоча б одну цифру [0-9]\n",
    "- пароль містить хоча б один спеціальний символ [~!@#$%^&*()-_+=\\/{}[].,?<>:;]"
   ]
  },
  {
   "cell_type": "code",
   "execution_count": 2,
   "metadata": {},
   "outputs": [
    {
     "name": "stdout",
     "output_type": "stream",
     "text": [
      "Parol ['q', 's', '2', 't', 'D', 'i', 's', 'w', '|', 'C']\n"
     ]
    }
   ],
   "source": [
    "# Місце для Вашого коду\n",
    "import numpy as np\n",
    "A=list();\n",
    "for i in range(33,127):\n",
    "  A.append(chr(i))\n",
    "B=list();\n",
    "for i in range(33,48):\n",
    "  B.append(chr(i))\n",
    "for i in range(91,96):\n",
    "  B.append(chr(i))\n",
    "for i in range(58,65):\n",
    "  B.append(chr(i))\n",
    "for i in range(123,127):\n",
    "  B.append(chr(i))\n",
    "C=list()\n",
    "for i in range(48,58):\n",
    "  C.append(chr(i))\n",
    "  D=list()\n",
    "for i in range(65,91):\n",
    "  D.append(chr(i))\n",
    "H=list()\n",
    "for i in range(97,123):\n",
    "  H.append(chr(i))\n",
    "parol=list();\n",
    "parol.append(np.random.choice(B))\n",
    "parol.append(np.random.choice(C))\n",
    "parol.append(np.random.choice(D))\n",
    "parol.append(np.random.choice(H))\n",
    "for i in range(4,10):\n",
    "  parol.append(np.random.choice(A))\n",
    "np.random.shuffle(parol)\n",
    "print(\"Parol\",parol)\n",
    "\n"
   ]
  },
  {
   "cell_type": "markdown",
   "metadata": {},
   "source": [
    "## 2 Герби в ряд\n",
    "Реалізуйте функцію для обчислення емпіричної та теоретичної імовірностей випадіння $k$ гербів (HEADS) підряд у серії з $n$ підкидань чесної монетки. Підрахуйте відповідні ймовірності для таких параметрів:\n",
    "- $k = 2, n = 10, 50, 100, 500, 1000, 5000, 10000$\n",
    "- $k = 3, n = 10, 50, 100, 500, 1000, 5000, 10000$\n",
    "\n",
    "**Зауваження.** Нехай $k = 2, n = 10$ та маємо таку послідовність результатів підкидання монети: $\\{ H, T, H, H, H, H, T, T, H, T \\}$. Тоді матимемо $3$ випадки випадіння двох гербів підряд та емпіричну ймовірність такої події $1/3$."
   ]
  },
  {
   "cell_type": "code",
   "execution_count": null,
   "metadata": {},
   "outputs": [
    {
     "name": "stdout",
     "output_type": "stream",
     "text": [
      "[1 1 1 1 0 1 1 0 0 0]\n",
      "Empiric Probability(№2): 0.6666666666666666 for parameters n,k 10   2\n",
      "Probability(№2): 0.09090909090909091 for parameters n,k 10   2\n",
      "[1 0 1 1 0 1 1 1 1 1]\n",
      "Empiric Probability(№2): 0.10204081632653061 for parameters n,k 50   2\n",
      "Probability(№2): 0.0196078431372549 for parameters n,k 50   2\n",
      "[1 0 0 1 1 0 1 1 0 0]\n",
      "Empiric Probability(№2): 0.04040404040404041 for parameters n,k 100   2\n",
      "Probability(№2): 0.009900990099009901 for parameters n,k 100   2\n",
      "[1 0 1 0 1 0 0 0 0 1]\n",
      "Empiric Probability(№2): 0.006012024048096192 for parameters n,k 500   2\n",
      "Probability(№2): 0.001996007984031936 for parameters n,k 500   2\n",
      "[0 0 1 1 1 0 0 0 1 1]\n",
      "Empiric Probability(№2): 0.006006006006006006 for parameters n,k 1000   2\n",
      "Probability(№2): 0.000999000999000999 for parameters n,k 1000   2\n",
      "[1 1 0 0 0 0 1 1 1 1]\n",
      "Empiric Probability(№2): 0.0014002800560112022 for parameters n,k 5000   2\n",
      "Probability(№2): 0.0001999600079984003 for parameters n,k 5000   2\n",
      "[0 1 1 0 1 0 0 1 1 0]\n",
      "Empiric Probability(№2): 0.00030003000300030005 for parameters n,k 10000   2\n",
      "Probability(№2): 9.999000099990002e-05 for parameters n,k 10000   2\n",
      "[0 1 0 1 1 0 0 0 0 0]\n",
      "Empiric Probability(№2): 0.625 for parameters n,k 10   3\n",
      "Probability(№2): 0.10227272727272728 for parameters n,k 10   3\n",
      "[1 0 1 0 0 0 1 0 1 0]\n",
      "Empiric Probability(№2): 0.041666666666666664 for parameters n,k 50   3\n",
      "Probability(№2): 0.020016339869281044 for parameters n,k 50   3\n",
      "[0 1 1 0 0 1 0 1 1 0]\n",
      "Empiric Probability(№2): 0.030612244897959183 for parameters n,k 100   3\n",
      "Probability(№2): 0.010002020610224288 for parameters n,k 100   3\n",
      "[0 1 1 0 1 1 0 0 0 1]\n",
      "Empiric Probability(№2): 0.008032128514056224 for parameters n,k 500   3\n",
      "Probability(№2): 0.002000016032192643 for parameters n,k 500   3\n",
      "[1 1 0 1 0 0 0 0 0 0]\n",
      "Empiric Probability(№2): 0.006012024048096192 for parameters n,k 1000   3\n",
      "Probability(№2): 0.00100000200200601 for parameters n,k 1000   3\n",
      "[0 1 1 0 0 0 0 0 1 0]\n",
      "Empiric Probability(№2): 0.0010004001600640256 for parameters n,k 5000   3\n",
      "Probability(№2): 0.00020000001600320192 for parameters n,k 5000   3\n",
      "[1 1 1 0 0 0 1 0 1 0]\n",
      "Empiric Probability(№2): 0.00040008001600320064 for parameters n,k 10000   3\n"
     ]
    }
   ],
   "source": [
    "# Місце для Вашого коду\n",
    "import numpy as np\n",
    "\n",
    "from itertools import combinations_with_replacement\n",
    "def monetka(k,n,A=[0,1]):\n",
    "  prb=0\n",
    "  monet=np.random.choice(A,10)\n",
    "  for i in range(1,len(monet)):\n",
    "    if monet[i]==monet[i-1]:\n",
    "      prb+=1\n",
    "  print(monet)\n",
    "  print(\"Empiric Probability(№2):\",prb/((n//k - 1)*k+(n%k+1)),\"for parameters n,k\",n,\" \",k)\n",
    "  choose_k=list(combinations_with_replacement(A,n))\n",
    "  for i in choose_k:\n",
    "    prb=0\n",
    "    for j in range(1,len(i)):\n",
    "      if i[j]==i[j-1]:\n",
    "        prb+=1\n",
    "  print(\"Probability(№2):\", prb/(((n//k - 1)*k+(n%k+1))*len(choose_k)),\"for parameters n,k\",n,\" \",k)\n",
    "\n",
    "\n",
    "  \n",
    "monetka(2,10)  \n",
    "monetka(2,50)\n",
    "monetka(2,100)\n",
    "monetka(2,500)  \n",
    "monetka(2,1000)  \n",
    "monetka(2,5000)  \n",
    "monetka(2,10000)\n",
    "monetka(3,10)  \n",
    "monetka(3,50)\n",
    "monetka(3,100)\n",
    "monetka(3,500)  \n",
    "monetka(3,1000)  \n",
    "monetka(3,5000)  \n",
    "monetka(3,10000)\n",
    "\n"
   ]
  },
  {
   "cell_type": "markdown",
   "metadata": {},
   "source": [
    "## 3 Найбільше число\n",
    "Реалізуйте функцію підрахунку точної (теоретичної) імовірності того, що максимальне число після $n$ кидків звичайного грального кубика дорівнює $x\\_max$, для таких параметрів:\n",
    "- $n = 3, x\\_max = 6$\n",
    "- $n = 2, x\\_max = 3$\n",
    "- $n = 3, x\\_max = 5$\n",
    "\n",
    "Тобто, якщо $X_i, i = 1, \\ldots, n$, - число на $i$-му кидку кубика, а $X = \\max\\limits_{1 \\leq i \\leq n} X_i$, то потрібно знайти ймовірність $\\textbf{P} \\left( X = x\\_max \\right)$.\n",
    "\n",
    "Підрахуйте також емпіричні ймовірності відповідних подій у випадку $10000$ симуляцій.\n",
    "\n",
    "**Зауваження.** Якщо введені параметри не мають сенсу, то повертати $0$.\n",
    "Тобто, якщо вводиться $x\\_max < 1$ або $x\\_max > 6$."
   ]
  },
  {
   "cell_type": "code",
   "execution_count": 6,
   "metadata": {},
   "outputs": [
    {
     "name": "stdout",
     "output_type": "stream",
     "text": [
      "Probability(№3): 0.375 for parameters n,x_max 3   6\n",
      "Empiric Probability(№3): 0.42058411682336466 for parameters n,x_max 3   6\n",
      "Probability(№3): 0.14285714285714285 for parameters n,x_max 2   3\n",
      "Empiric Probability(№3): 0.13751375137513752 for parameters n,x_max 2   3\n",
      "Probability(№3): 0.26785714285714285 for parameters n,x_max 3   5\n",
      "Empiric Probability(№3): 0.28965793158631725 for parameters n,x_max 3   5\n"
     ]
    }
   ],
   "source": [
    "# Місце для Вашого коду\n",
    "import numpy as np\n",
    "from itertools import combinations_with_replacement\n",
    "\n",
    "def exemprb(n,x_max,kub=[1,2,3,4,5,6]):\n",
    "    if x_max<1:\n",
    "        return 0\n",
    "    if x_max>6:\n",
    "        return 0\n",
    "    prb=0\n",
    "    choose_k = list(combinations_with_replacement(kub,n))\n",
    "    for i in choose_k:\n",
    "      if x_max==max(i):\n",
    "        prb+=1\n",
    "    print(\"Probability(№3):\",prb/(len(choose_k)),\"for parameters n,x_max\",n,\" \",x_max)\n",
    "  #eмпірична\n",
    "    prb=0\n",
    "    for i in range(10000):\n",
    "      s=np.random.randint(1, 7, n)\n",
    "      if x_max==max(s):\n",
    "        prb+=1\n",
    "    print(\"Empiric Probability(№3):\",prb/((10000//n - 1)*n+(10000%n+1)),\"for parameters n,x_max\",n,\" \",x_max)\n",
    "exemprb(3,6)\n",
    "exemprb(2,3)\n",
    "exemprb(3,5)\n"
   ]
  },
  {
   "cell_type": "markdown",
   "metadata": {},
   "source": [
    "## 4 Сума чисел\n",
    "Реалізуйте функцію підрахунку точної (теоретичної) імовірності того, що сума чисел після $n$ кидків звичайного грального кубика дорівнює $s$, для таких параметрів:\n",
    "- $n = 3, s = 13$\n",
    "- $n = 2, s = 5$\n",
    "- $n = 3, s = 7$\n",
    "\n",
    "Тобто, якщо $X_i, i = 1, \\ldots, n$, - число на $i$-му кидку кубика, а $X = \\sum\\limits_{i = 1}^{n} X_i$, то потрібно знайти ймовірність $\\textbf{P} \\left( X = s \\right)$.\n",
    "\n",
    "Підрахуйте також емпіричні ймовірності відповідних подій у випадку $10000$ симуляцій.\n",
    "\n",
    "**Зауваження.** Якщо введені параметри не мають сенсу, то повертати $0$.\n",
    "Наприклад, якщо при $n = 3$ вводиться $s < 3$ або $s > 18$."
   ]
  },
  {
   "cell_type": "code",
   "execution_count": 7,
   "metadata": {},
   "outputs": [
    {
     "name": "stdout",
     "output_type": "stream",
     "text": [
      "Probability(№4): 0.08928571428571429 for parameters n,sum 3   13\n",
      "Empiric Probability(№4): 0.09561912382476495 for parameters n,sum 3   13\n",
      "Probability(№4): 0.09523809523809523 for parameters n,sum 2   5\n",
      "Empiric Probability(№4): 0.10961096109610961 for parameters n,sum 2   5\n",
      "Probability(№4): 0.07142857142857142 for parameters n,sum 3   7\n",
      "Empiric Probability(№4): 0.07051410282056411 for parameters n,sum 3   7\n"
     ]
    }
   ],
   "source": [
    "# Місце для Вашого коду\n",
    "\n",
    "import numpy as np\n",
    "from itertools import combinations_with_replacement\n",
    "\n",
    "def exemsum(n,sum,kub=[1,2,3,4,5,6]):\n",
    "    if sum<n:\n",
    "        return 0\n",
    "    if sum>n*6:\n",
    "        return 0\n",
    "    prb=0\n",
    "    choose_k = list(combinations_with_replacement(kub,n))\n",
    "    for i in choose_k:\n",
    "      sum1=0\n",
    "      for j in range(len(i)):\n",
    "        sum1+=i[j]\n",
    "      if(sum1==sum):\n",
    "        prb+=1;\n",
    "    print(\"Probability(№4):\",prb/(len(choose_k)),\"for parameters n,sum\",n,\" \",sum)\n",
    "  #емпірична\n",
    "    prb=0\n",
    "    for m in range(10000):\n",
    "      s=np.random.randint(1, 7, n)\n",
    "      sum1=0\n",
    "      for i in s:\n",
    "        sum1+=i\n",
    "      if(sum1==sum):\n",
    "        prb+=1;\n",
    "\n",
    "    print(\"Empiric Probability(№4):\",prb/((10000//n - 1)*n+(10000%n+1)),\"for parameters n,sum\",n,\" \",sum)\n",
    "\n",
    "exemsum(3,13)\n",
    "exemsum(2,5)\n",
    "exemsum(3,7)\n"
   ]
  },
  {
   "cell_type": "code",
   "execution_count": null,
   "metadata": {},
   "outputs": [],
   "source": []
  }
 ],
 "metadata": {
  "kernelspec": {
   "display_name": "Python 3",
   "language": "python",
   "name": "python3"
  },
  "language_info": {
   "codemirror_mode": {
    "name": "ipython",
    "version": 3
   },
   "file_extension": ".py",
   "mimetype": "text/x-python",
   "name": "python",
   "nbconvert_exporter": "python",
   "pygments_lexer": "ipython3",
   "version": "3.7.1"
  }
 },
 "nbformat": 4,
 "nbformat_minor": 1
}
